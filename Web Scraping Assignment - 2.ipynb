{
 "cells": [
  {
   "cell_type": "markdown",
   "metadata": {},
   "source": [
    "# Web Scraping Assigment-2"
   ]
  },
  {
   "cell_type": "markdown",
   "metadata": {},
   "source": [
    " Q1: Write a python program to scrape data for “Data Analyst” Job position in\n",
    "“Bangalore” location. You have to scrape the job-title, job-location, company_name,\n",
    "experience_required. You have to scrape first 10 jobs data.\n"
   ]
  },
  {
   "cell_type": "code",
   "execution_count": 1,
   "metadata": {},
   "outputs": [
    {
     "name": "stdout",
     "output_type": "stream",
     "text": [
      "Requirement already satisfied: Selenium in c:\\users\\homa\\anaconda3\\new folder\\lib\\site-packages (3.141.0)\n",
      "Requirement already satisfied: urllib3 in c:\\users\\homa\\anaconda3\\new folder\\lib\\site-packages (from Selenium) (1.24.2)\n"
     ]
    }
   ],
   "source": [
    " ! pip install Selenium"
   ]
  },
  {
   "cell_type": "code",
   "execution_count": 2,
   "metadata": {},
   "outputs": [],
   "source": [
    "#Import Selenium,Pandas and Web driver.\n",
    "import selenium\n",
    "import pandas as pd\n",
    "from selenium import webdriver"
   ]
  },
  {
   "cell_type": "code",
   "execution_count": 3,
   "metadata": {},
   "outputs": [],
   "source": [
    "# Getting address of the chromedriver and importing. \n",
    "driver = webdriver.Chrome(r\"C:\\Users\\HOMA\\Downloads\\chromedriver_win32\\chromedriver.exe\")"
   ]
  },
  {
   "cell_type": "code",
   "execution_count": 4,
   "metadata": {},
   "outputs": [],
   "source": [
    "# URL for Naukri website.\n",
    "url = \"https://www.naukri.com/data-analyst-jobs-in-bangalore?k=data%20analyst&l=bangalore\""
   ]
  },
  {
   "cell_type": "code",
   "execution_count": 5,
   "metadata": {},
   "outputs": [],
   "source": [
    "# Getting the URL thorugh webdriver.\n",
    "driver.get(url)"
   ]
  },
  {
   "cell_type": "code",
   "execution_count": 6,
   "metadata": {},
   "outputs": [],
   "source": [
    "# Creating empty sets.\n",
    "Job_title = []\n",
    "Job_location = []\n",
    "Company_name = []\n",
    "Experience_required = []"
   ]
  },
  {
   "cell_type": "code",
   "execution_count": 7,
   "metadata": {},
   "outputs": [
    {
     "data": {
      "text/plain": [
       "[<selenium.webdriver.remote.webelement.WebElement (session=\"d3eddb8aed41d09f324ea301132f353f\", element=\"b76eae82-19fb-4c8c-b801-6b2f195e3326\")>,\n",
       " <selenium.webdriver.remote.webelement.WebElement (session=\"d3eddb8aed41d09f324ea301132f353f\", element=\"9ed2d850-5136-4b2a-bae8-fafcd9a55e5e\")>,\n",
       " <selenium.webdriver.remote.webelement.WebElement (session=\"d3eddb8aed41d09f324ea301132f353f\", element=\"9b649c60-f80b-4ed6-9174-7edde60d58e4\")>,\n",
       " <selenium.webdriver.remote.webelement.WebElement (session=\"d3eddb8aed41d09f324ea301132f353f\", element=\"c192e9b0-902c-4012-9e09-d63118077c1b\")>]"
      ]
     },
     "execution_count": 7,
     "metadata": {},
     "output_type": "execute_result"
    }
   ],
   "source": [
    "# Finding the elements for titles.\n",
    "titles = driver.find_elements_by_xpath(\"//a[@class='title fw500 ellipsis']\")\n",
    "titles[:4]"
   ]
  },
  {
   "cell_type": "code",
   "execution_count": 8,
   "metadata": {},
   "outputs": [
    {
     "data": {
      "text/plain": [
       "[<selenium.webdriver.remote.webelement.WebElement (session=\"d3eddb8aed41d09f324ea301132f353f\", element=\"d1b0c888-5d94-40e8-8013-b77986d76216\")>,\n",
       " <selenium.webdriver.remote.webelement.WebElement (session=\"d3eddb8aed41d09f324ea301132f353f\", element=\"925990b5-8092-44a9-82e7-b4ebc6aac64e\")>,\n",
       " <selenium.webdriver.remote.webelement.WebElement (session=\"d3eddb8aed41d09f324ea301132f353f\", element=\"0c09344b-d211-4e44-98b3-dbd093496657\")>,\n",
       " <selenium.webdriver.remote.webelement.WebElement (session=\"d3eddb8aed41d09f324ea301132f353f\", element=\"5548fc00-3e94-4f95-8f48-0a69565470c5\")>]"
      ]
     },
     "execution_count": 8,
     "metadata": {},
     "output_type": "execute_result"
    }
   ],
   "source": [
    "# Finding the elements for companies.\n",
    "companies = driver.find_elements_by_xpath(\"//a[@class='subTitle ellipsis fleft']\")\n",
    "companies[:4]"
   ]
  },
  {
   "cell_type": "code",
   "execution_count": 9,
   "metadata": {},
   "outputs": [
    {
     "data": {
      "text/plain": [
       "[<selenium.webdriver.remote.webelement.WebElement (session=\"d3eddb8aed41d09f324ea301132f353f\", element=\"1f9849c3-c797-4647-bfcb-be3c2f73aa32\")>,\n",
       " <selenium.webdriver.remote.webelement.WebElement (session=\"d3eddb8aed41d09f324ea301132f353f\", element=\"f860f5fa-b452-406f-8230-f548357370d6\")>,\n",
       " <selenium.webdriver.remote.webelement.WebElement (session=\"d3eddb8aed41d09f324ea301132f353f\", element=\"1e8d9512-4b2b-420e-bf2e-2e799c511c79\")>,\n",
       " <selenium.webdriver.remote.webelement.WebElement (session=\"d3eddb8aed41d09f324ea301132f353f\", element=\"39bc60e1-757b-4e1f-ab4c-a3356d598ace\")>]"
      ]
     },
     "execution_count": 9,
     "metadata": {},
     "output_type": "execute_result"
    }
   ],
   "source": [
    "# Finding the elements of locations.\n",
    "locations = driver.find_elements_by_xpath(\"//li[@class='fleft grey-text br2 placeHolderLi location']/span[1]\")\n",
    "locations[:4]"
   ]
  },
  {
   "cell_type": "code",
   "execution_count": 10,
   "metadata": {},
   "outputs": [
    {
     "data": {
      "text/plain": [
       "[<selenium.webdriver.remote.webelement.WebElement (session=\"d3eddb8aed41d09f324ea301132f353f\", element=\"e1b61828-5c35-4954-bc81-eba4d8d16747\")>,\n",
       " <selenium.webdriver.remote.webelement.WebElement (session=\"d3eddb8aed41d09f324ea301132f353f\", element=\"697f34b6-1f99-425a-86d1-fceaaebcc40b\")>,\n",
       " <selenium.webdriver.remote.webelement.WebElement (session=\"d3eddb8aed41d09f324ea301132f353f\", element=\"e5640dec-2d6c-4d25-9a30-d40b3efdb8ec\")>,\n",
       " <selenium.webdriver.remote.webelement.WebElement (session=\"d3eddb8aed41d09f324ea301132f353f\", element=\"45912475-3ddb-42d5-ae0c-d4abb3c84fc2\")>]"
      ]
     },
     "execution_count": 10,
     "metadata": {},
     "output_type": "execute_result"
    }
   ],
   "source": [
    "# Finding the elements of experience.\n",
    "experience = driver.find_elements_by_xpath(\"//li[@class='fleft grey-text br2 placeHolderLi experience']/span[1]\")\n",
    "experience[:4]"
   ]
  },
  {
   "cell_type": "code",
   "execution_count": 11,
   "metadata": {},
   "outputs": [
    {
     "data": {
      "text/plain": [
       "['Data Scientist/Data Analyst-immediate',\n",
       " 'Data Analyst',\n",
       " 'Data Analyst',\n",
       " 'Data Analyst',\n",
       " 'ID&A - Data Analyst - Informatica MDM',\n",
       " 'Data Analyst',\n",
       " 'Data Analyst',\n",
       " 'Data Analyst',\n",
       " 'Business Data Analyst - Database Design/Mining',\n",
       " 'Data Analyst - MySQL/PostgreSQL']"
      ]
     },
     "execution_count": 11,
     "metadata": {},
     "output_type": "execute_result"
    }
   ],
   "source": [
    "# Finding Job_title through appending the text.\n",
    "for i in titles:\n",
    "    title = i.text\n",
    "    Job_title.append(title)\n",
    "Job_title[:10]\n",
    "    "
   ]
  },
  {
   "cell_type": "code",
   "execution_count": 12,
   "metadata": {},
   "outputs": [
    {
     "data": {
      "text/plain": [
       "['CAIA-Center For Artificial Intelligence & Advanced Analytics',\n",
       " 'Applied Materials',\n",
       " 'Cognizant Technology Solutions India Pvt Ltd',\n",
       " 'St. John’s Research Institute',\n",
       " 'Shell India Markets Private Limited',\n",
       " 'GlaxoSmithKline Pharmaceuticals Limited',\n",
       " 'Cognizant Technology Solutions India Pvt Ltd',\n",
       " 'Shell India Markets Private Limited',\n",
       " 'AugmatrixGo',\n",
       " 'Astegic']"
      ]
     },
     "execution_count": 12,
     "metadata": {},
     "output_type": "execute_result"
    }
   ],
   "source": [
    "# Finding company_name through appending the text.\n",
    "for i in companies:\n",
    "    company = i.text\n",
    "    Company_name.append(company)\n",
    "Company_name[:10]"
   ]
  },
  {
   "cell_type": "code",
   "execution_count": 13,
   "metadata": {},
   "outputs": [
    {
     "data": {
      "text/plain": [
       "['Chennai, Pune, Bengaluru, Hyderabad',\n",
       " 'Bengaluru',\n",
       " 'Mumbai, Bengaluru, Hyderabad',\n",
       " 'Bengaluru',\n",
       " 'Bengaluru',\n",
       " 'Bengaluru',\n",
       " 'Bengaluru, Kolkata',\n",
       " 'Bengaluru',\n",
       " 'Bengaluru',\n",
       " 'Pune, Mumbai, Bengaluru, Hyderabad, Noida, Jaipur']"
      ]
     },
     "execution_count": 13,
     "metadata": {},
     "output_type": "execute_result"
    }
   ],
   "source": [
    "# Finding Job_location through appending the text.\n",
    "for i in locations:\n",
    "    location = i.text\n",
    "    Job_location.append(location)\n",
    "Job_location[:10]"
   ]
  },
  {
   "cell_type": "code",
   "execution_count": 14,
   "metadata": {},
   "outputs": [
    {
     "data": {
      "text/plain": [
       "['0-3 Yrs',\n",
       " '6-11 Yrs',\n",
       " '2-3 Yrs',\n",
       " '0-4 Yrs',\n",
       " '6-9 Yrs',\n",
       " '2-7 Yrs',\n",
       " '3-4 Yrs',\n",
       " '5-8 Yrs',\n",
       " '2-5 Yrs',\n",
       " '5-10 Yrs']"
      ]
     },
     "execution_count": 14,
     "metadata": {},
     "output_type": "execute_result"
    }
   ],
   "source": [
    "# Finding Experience_required through appending the text.\n",
    "for i in experience:\n",
    "    exp = i.text\n",
    "    Experience_required.append(exp)\n",
    "Experience_required[:10]"
   ]
  },
  {
   "cell_type": "code",
   "execution_count": 15,
   "metadata": {},
   "outputs": [
    {
     "name": "stdout",
     "output_type": "stream",
     "text": [
      "20 20 20 20\n"
     ]
    }
   ],
   "source": [
    "# Finding lengths for all variables.\n",
    "print(len(Job_title),len(Job_location),len(Company_name),len(Experience_required))"
   ]
  },
  {
   "cell_type": "code",
   "execution_count": 16,
   "metadata": {},
   "outputs": [],
   "source": [
    "# Creating DataFrame.\n",
    "Data_analyst_jobs = pd.DataFrame({})\n",
    "Data_analyst_jobs['Title'] = Job_title[:10]\n",
    "Data_analyst_jobs['Company_Name'] = Company_name[:10]\n",
    "Data_analyst_jobs['Job_Location'] = Job_location[:10]\n",
    "Data_analyst_jobs['Experience_Required'] = Experience_required[:10]"
   ]
  },
  {
   "cell_type": "code",
   "execution_count": 17,
   "metadata": {},
   "outputs": [
    {
     "data": {
      "text/html": [
       "<div>\n",
       "<style scoped>\n",
       "    .dataframe tbody tr th:only-of-type {\n",
       "        vertical-align: middle;\n",
       "    }\n",
       "\n",
       "    .dataframe tbody tr th {\n",
       "        vertical-align: top;\n",
       "    }\n",
       "\n",
       "    .dataframe thead th {\n",
       "        text-align: right;\n",
       "    }\n",
       "</style>\n",
       "<table border=\"1\" class=\"dataframe\">\n",
       "  <thead>\n",
       "    <tr style=\"text-align: right;\">\n",
       "      <th></th>\n",
       "      <th>Title</th>\n",
       "      <th>Company_Name</th>\n",
       "      <th>Job_Location</th>\n",
       "      <th>Experience_Required</th>\n",
       "    </tr>\n",
       "  </thead>\n",
       "  <tbody>\n",
       "    <tr>\n",
       "      <td>0</td>\n",
       "      <td>Data Scientist/Data Analyst-immediate</td>\n",
       "      <td>CAIA-Center For Artificial Intelligence &amp; Adva...</td>\n",
       "      <td>Chennai, Pune, Bengaluru, Hyderabad</td>\n",
       "      <td>0-3 Yrs</td>\n",
       "    </tr>\n",
       "    <tr>\n",
       "      <td>1</td>\n",
       "      <td>Data Analyst</td>\n",
       "      <td>Applied Materials</td>\n",
       "      <td>Bengaluru</td>\n",
       "      <td>6-11 Yrs</td>\n",
       "    </tr>\n",
       "    <tr>\n",
       "      <td>2</td>\n",
       "      <td>Data Analyst</td>\n",
       "      <td>Cognizant Technology Solutions India Pvt Ltd</td>\n",
       "      <td>Mumbai, Bengaluru, Hyderabad</td>\n",
       "      <td>2-3 Yrs</td>\n",
       "    </tr>\n",
       "    <tr>\n",
       "      <td>3</td>\n",
       "      <td>Data Analyst</td>\n",
       "      <td>St. John’s Research Institute</td>\n",
       "      <td>Bengaluru</td>\n",
       "      <td>0-4 Yrs</td>\n",
       "    </tr>\n",
       "    <tr>\n",
       "      <td>4</td>\n",
       "      <td>ID&amp;A - Data Analyst - Informatica MDM</td>\n",
       "      <td>Shell India Markets Private Limited</td>\n",
       "      <td>Bengaluru</td>\n",
       "      <td>6-9 Yrs</td>\n",
       "    </tr>\n",
       "    <tr>\n",
       "      <td>5</td>\n",
       "      <td>Data Analyst</td>\n",
       "      <td>GlaxoSmithKline Pharmaceuticals Limited</td>\n",
       "      <td>Bengaluru</td>\n",
       "      <td>2-7 Yrs</td>\n",
       "    </tr>\n",
       "    <tr>\n",
       "      <td>6</td>\n",
       "      <td>Data Analyst</td>\n",
       "      <td>Cognizant Technology Solutions India Pvt Ltd</td>\n",
       "      <td>Bengaluru, Kolkata</td>\n",
       "      <td>3-4 Yrs</td>\n",
       "    </tr>\n",
       "    <tr>\n",
       "      <td>7</td>\n",
       "      <td>Data Analyst</td>\n",
       "      <td>Shell India Markets Private Limited</td>\n",
       "      <td>Bengaluru</td>\n",
       "      <td>5-8 Yrs</td>\n",
       "    </tr>\n",
       "    <tr>\n",
       "      <td>8</td>\n",
       "      <td>Business Data Analyst - Database Design/Mining</td>\n",
       "      <td>AugmatrixGo</td>\n",
       "      <td>Bengaluru</td>\n",
       "      <td>2-5 Yrs</td>\n",
       "    </tr>\n",
       "    <tr>\n",
       "      <td>9</td>\n",
       "      <td>Data Analyst - MySQL/PostgreSQL</td>\n",
       "      <td>Astegic</td>\n",
       "      <td>Pune, Mumbai, Bengaluru, Hyderabad, Noida, Jaipur</td>\n",
       "      <td>5-10 Yrs</td>\n",
       "    </tr>\n",
       "  </tbody>\n",
       "</table>\n",
       "</div>"
      ],
      "text/plain": [
       "                                            Title  \\\n",
       "0           Data Scientist/Data Analyst-immediate   \n",
       "1                                    Data Analyst   \n",
       "2                                    Data Analyst   \n",
       "3                                    Data Analyst   \n",
       "4           ID&A - Data Analyst - Informatica MDM   \n",
       "5                                    Data Analyst   \n",
       "6                                    Data Analyst   \n",
       "7                                    Data Analyst   \n",
       "8  Business Data Analyst - Database Design/Mining   \n",
       "9                 Data Analyst - MySQL/PostgreSQL   \n",
       "\n",
       "                                        Company_Name  \\\n",
       "0  CAIA-Center For Artificial Intelligence & Adva...   \n",
       "1                                  Applied Materials   \n",
       "2       Cognizant Technology Solutions India Pvt Ltd   \n",
       "3                      St. John’s Research Institute   \n",
       "4                Shell India Markets Private Limited   \n",
       "5            GlaxoSmithKline Pharmaceuticals Limited   \n",
       "6       Cognizant Technology Solutions India Pvt Ltd   \n",
       "7                Shell India Markets Private Limited   \n",
       "8                                        AugmatrixGo   \n",
       "9                                            Astegic   \n",
       "\n",
       "                                        Job_Location Experience_Required  \n",
       "0                Chennai, Pune, Bengaluru, Hyderabad             0-3 Yrs  \n",
       "1                                          Bengaluru            6-11 Yrs  \n",
       "2                       Mumbai, Bengaluru, Hyderabad             2-3 Yrs  \n",
       "3                                          Bengaluru             0-4 Yrs  \n",
       "4                                          Bengaluru             6-9 Yrs  \n",
       "5                                          Bengaluru             2-7 Yrs  \n",
       "6                                 Bengaluru, Kolkata             3-4 Yrs  \n",
       "7                                          Bengaluru             5-8 Yrs  \n",
       "8                                          Bengaluru             2-5 Yrs  \n",
       "9  Pune, Mumbai, Bengaluru, Hyderabad, Noida, Jaipur            5-10 Yrs  "
      ]
     },
     "execution_count": 17,
     "metadata": {},
     "output_type": "execute_result"
    }
   ],
   "source": [
    "# Final DataFrame.\n",
    "Data_analyst_jobs"
   ]
  },
  {
   "cell_type": "code",
   "execution_count": null,
   "metadata": {},
   "outputs": [],
   "source": []
  },
  {
   "cell_type": "markdown",
   "metadata": {},
   "source": [
    "Q2: Write a python program to scrape data for “Data Scientist” Job position in\n",
    "“Bangalore” location. You have to scrape the job-title, job-location,\n",
    "company_name, full job-description."
   ]
  },
  {
   "cell_type": "code",
   "execution_count": 18,
   "metadata": {},
   "outputs": [],
   "source": [
    "# Creating webdriver.\n",
    "driver = webdriver.Chrome(r\"C:\\Users\\HOMA\\Downloads\\chromedriver_win32\\chromedriver.exe\")"
   ]
  },
  {
   "cell_type": "code",
   "execution_count": 19,
   "metadata": {},
   "outputs": [],
   "source": [
    "# Importing URL of Naukri Website.\n",
    "url = \"https://www.naukri.com/data-scientist-jobs-in-bangalore?k=data%20scientist&l=bangalore\""
   ]
  },
  {
   "cell_type": "code",
   "execution_count": 20,
   "metadata": {},
   "outputs": [],
   "source": [
    "# Getting URL through Webdriver.\n",
    "driver.get(url)"
   ]
  },
  {
   "cell_type": "code",
   "execution_count": 21,
   "metadata": {},
   "outputs": [],
   "source": [
    "# Creating Empty Sets.\n",
    "Job_title = []\n",
    "Job_location = []\n",
    "Company_name = []\n",
    "Job_description = []"
   ]
  },
  {
   "cell_type": "code",
   "execution_count": 22,
   "metadata": {},
   "outputs": [
    {
     "data": {
      "text/plain": [
       "[<selenium.webdriver.remote.webelement.WebElement (session=\"58f60dad33daed20d30b29258c51d6aa\", element=\"7dbbf4cb-7bf9-4296-a086-80170f6cd9dc\")>,\n",
       " <selenium.webdriver.remote.webelement.WebElement (session=\"58f60dad33daed20d30b29258c51d6aa\", element=\"ee60b6c2-7dcb-46f5-a199-9aa0529564d9\")>,\n",
       " <selenium.webdriver.remote.webelement.WebElement (session=\"58f60dad33daed20d30b29258c51d6aa\", element=\"331a2c28-927a-404c-8810-9b97c92ec741\")>,\n",
       " <selenium.webdriver.remote.webelement.WebElement (session=\"58f60dad33daed20d30b29258c51d6aa\", element=\"9331fb5f-d53a-423c-b8c7-6a4c5161dc63\")>,\n",
       " <selenium.webdriver.remote.webelement.WebElement (session=\"58f60dad33daed20d30b29258c51d6aa\", element=\"518ccbc3-6b80-4fc9-968e-3e191c0ee722\")>]"
      ]
     },
     "execution_count": 22,
     "metadata": {},
     "output_type": "execute_result"
    }
   ],
   "source": [
    "# Finding the elements for titles.\n",
    "titles = driver.find_elements_by_xpath(\"//a[@class='title fw500 ellipsis']\")\n",
    "titles[:5]"
   ]
  },
  {
   "cell_type": "code",
   "execution_count": 23,
   "metadata": {},
   "outputs": [
    {
     "data": {
      "text/plain": [
       "['Data Scientist/Data Analyst-immediate',\n",
       " 'HCL hiring Data scientist with exp in machine learning &SQL-Bangalore!',\n",
       " 'Data Scientist - Machine Learning',\n",
       " 'Senior Associate - Data Scientist/ML Engineer',\n",
       " 'Senior Data Scientist',\n",
       " 'Data Scientist - Machine Learning - Remote Working',\n",
       " 'Software Developer - Data Scientist / NLP / Machine Learning',\n",
       " 'Sr. Data Scientist',\n",
       " 'Data Scientist - Machine Learning',\n",
       " 'Data Scientist - Machine Learning']"
      ]
     },
     "execution_count": 23,
     "metadata": {},
     "output_type": "execute_result"
    }
   ],
   "source": [
    "# Finding Job_title through appending the text.\n",
    "for i in titles:\n",
    "    title=i.text\n",
    "    Job_title.append(title)\n",
    "Job_title[:10]"
   ]
  },
  {
   "cell_type": "code",
   "execution_count": 24,
   "metadata": {},
   "outputs": [
    {
     "data": {
      "text/plain": [
       "[<selenium.webdriver.remote.webelement.WebElement (session=\"58f60dad33daed20d30b29258c51d6aa\", element=\"eea0615e-0d0e-449a-ad2a-393d99d9e533\")>,\n",
       " <selenium.webdriver.remote.webelement.WebElement (session=\"58f60dad33daed20d30b29258c51d6aa\", element=\"838b5484-a497-4b11-9dbc-eb1f611f589b\")>,\n",
       " <selenium.webdriver.remote.webelement.WebElement (session=\"58f60dad33daed20d30b29258c51d6aa\", element=\"cbc471cd-f32f-4e7b-bef4-4b5bc909ec54\")>,\n",
       " <selenium.webdriver.remote.webelement.WebElement (session=\"58f60dad33daed20d30b29258c51d6aa\", element=\"21b17d80-ad25-4f2d-8f06-10db420c5f01\")>,\n",
       " <selenium.webdriver.remote.webelement.WebElement (session=\"58f60dad33daed20d30b29258c51d6aa\", element=\"77dda60e-a919-4837-a0f4-738f1b12dfd1\")>]"
      ]
     },
     "execution_count": 24,
     "metadata": {},
     "output_type": "execute_result"
    }
   ],
   "source": [
    "# Finding the elements for locations.\n",
    "locations = driver.find_elements_by_xpath(\"//li[@class='fleft grey-text br2 placeHolderLi location']/span[1]\")\n",
    "locations[:5]"
   ]
  },
  {
   "cell_type": "code",
   "execution_count": 25,
   "metadata": {},
   "outputs": [
    {
     "data": {
      "text/plain": [
       "['Chennai, Pune, Bengaluru, Hyderabad',\n",
       " 'Bengaluru',\n",
       " 'Bengaluru',\n",
       " 'Bengaluru',\n",
       " 'Bengaluru',\n",
       " 'Delhi NCR, Bengaluru, Anywhere in India',\n",
       " 'Bengaluru / Bangalore',\n",
       " 'Bengaluru',\n",
       " 'Bengaluru',\n",
       " 'Bengaluru']"
      ]
     },
     "execution_count": 25,
     "metadata": {},
     "output_type": "execute_result"
    }
   ],
   "source": [
    "# Finding Job_location through appending the text.\n",
    "for i in locations:\n",
    "    location=i.text\n",
    "    Job_location.append(location)\n",
    "Job_location[:10]"
   ]
  },
  {
   "cell_type": "code",
   "execution_count": 26,
   "metadata": {},
   "outputs": [
    {
     "data": {
      "text/plain": [
       "[<selenium.webdriver.remote.webelement.WebElement (session=\"58f60dad33daed20d30b29258c51d6aa\", element=\"0dfa597b-1bad-453d-8d23-74ff16d09b66\")>,\n",
       " <selenium.webdriver.remote.webelement.WebElement (session=\"58f60dad33daed20d30b29258c51d6aa\", element=\"ad406aec-08bc-4854-9d70-da43aeb5fe76\")>,\n",
       " <selenium.webdriver.remote.webelement.WebElement (session=\"58f60dad33daed20d30b29258c51d6aa\", element=\"0544309c-6de7-4bbe-9aa4-69bd1e91d255\")>,\n",
       " <selenium.webdriver.remote.webelement.WebElement (session=\"58f60dad33daed20d30b29258c51d6aa\", element=\"5a2b7873-2fdd-4743-943d-4df0bd5a27b3\")>,\n",
       " <selenium.webdriver.remote.webelement.WebElement (session=\"58f60dad33daed20d30b29258c51d6aa\", element=\"ec9f8375-a48d-4dcb-9c62-eb89d9dbf08d\")>]"
      ]
     },
     "execution_count": 26,
     "metadata": {},
     "output_type": "execute_result"
    }
   ],
   "source": [
    "# Finding the elements for Companies.\n",
    "companies = driver.find_elements_by_xpath(\"//a[@class='subTitle ellipsis fleft']\")\n",
    "companies[:5]"
   ]
  },
  {
   "cell_type": "code",
   "execution_count": 27,
   "metadata": {},
   "outputs": [
    {
     "data": {
      "text/plain": [
       "['CAIA-Center For Artificial Intelligence & Advanced Analytics',\n",
       " 'HCL Technologies Limited',\n",
       " 'AugmatrixGo',\n",
       " 'Pricewaterhouse Coopers Private Limited',\n",
       " 'Philips India Limited',\n",
       " 'Doji Ltd',\n",
       " 'Cunesoft India Private Limited',\n",
       " 'NetApp',\n",
       " 'BLUE YONDER INDIA PRIVATE LIMITED',\n",
       " 'BLUE YONDER INDIA PRIVATE LIMITED']"
      ]
     },
     "execution_count": 27,
     "metadata": {},
     "output_type": "execute_result"
    }
   ],
   "source": [
    "# Finding Company_name through appending the text.\n",
    "for i in companies:\n",
    "    company=i.text\n",
    "    Company_name.append(company)\n",
    "Company_name[:10]"
   ]
  },
  {
   "cell_type": "code",
   "execution_count": 28,
   "metadata": {},
   "outputs": [],
   "source": [
    "# Finding the elements for Job_description and appending text.\n",
    "from selenium.common.exceptions import StaleElementReferenceException, NoSuchElementException\n",
    "urls=[i.get_attribute(\"href\")for i in driver.find_elements_by_xpath(\"//a[@class='title fw500 ellipsis']\")]\n",
    "for url in urls[0:10]:\n",
    "    try:\n",
    "        \n",
    "        driver.get(url)\n",
    "        raw_description=driver.find_element_by_xpath(\"//section[@class='job-desc']/div[1]\").text\n",
    "        description=raw_description.replace(\"Contact Person\",\"@@@@@\")\n",
    "        description= description.split(\"@@@@@\")\n",
    "        Job_description.append(description[0])\n",
    "    except NoSuchElementException :\n",
    "        Job_description.append(\"---\")\n",
    "# Reference taken from github that,to use in a way of for loop to get all urls of different job descriptions in one cell."
   ]
  },
  {
   "cell_type": "code",
   "execution_count": 29,
   "metadata": {},
   "outputs": [
    {
     "data": {
      "text/plain": [
       "['Dear Candidate\\n\\nSchedule a Telephonic Interview ( Please call for confirmation) : Mon- Sat from 11:00am to 5:00pm\\n\\nOR Walk-In to the Corporate office between Monday to Friday from 11:00am to 5:00pm\\nContact person :\\n\\nManigandan -+91 7299917200\\nShantha +91 9790993237\\n\\n\\nSystech Solutions\\nTemple Steps\\nTower 3, 6th Floor\\n184-187 Anna Salai\\nSaidapet, Chennai 600015\\nIndia (Near Little Mount Metro Station)\\nRoles and Responsibilities\\n\\nGreetings from CAIA !\\nA great opportunity to enter the world of future technologies - Data Science, Analytics, AI, Data Visualization\\nApplications invited from all Freshers and experienced candidates aspiring to make a career in Artificial Intelligence and Advanced Analytics and Data Science.\\nIn case you are trying to shift your career to Analytics and/or AI domain please do connect with us to know more.\\nWhat is needed from you?\\n- An Educational background in any one of the following- BE/B.Tech, ME/M Tech, MSc, BSc/MSc Maths and Statistics, B Com, BCA, BSc CS, BSC IT, MSC IT, MCA\\n- Skills relating to Mathematics/Statistics.\\n- Natural passion towards numbers, business, coding, Analytics and Artificial Intelligence, Machine Learning, visualization\\n- Good verbal and written communication skills\\n- Ability to understand domains in businesses across various sectors\\n- Freshers who wish to start their career in Analytics and AI and professionals who wish to up skill or change their domain to analytics and emerging technologies are free to apply.\\nSelection procedure includes\\n- Online Aptitude Test\\n- Logical Ability Test / Written Test\\nOn being shortlisted, you will be have to undergo a one-one discussion with our counsellor for further evaluation and processing of your Resume.\\nWhat you can expect from us?\\nYou will get trained on the following modules for a period of 12-14 weeks:\\n-SQL & PLSQL\\n-Data Wrangling using Python\\n-Statistics for Machine Learning,\\n-Artificial Intelligence, Data Interpretation\\n-Supervised & Unsupervised Learning,\\n-NLP & Deep Learning\\n-Cloud Data Lake\\n-Business intelligence & Data Visualization\\n-Simulation Projects\\nWhat is the expected Outcome?\\nAt the end of the Training you are expected to be well versed with the following:\\n- Analysis of large and complex data sets from multiple sources\\n- Development and evaluation of data analytics models, algorithms and solutions\\n- Understanding/implementation of ML algorithms, performance tuning and reporting\\n- Implementation of algorithms to mine targeted data and the ability to convert data into a business story\\n- Translation of business requirements into technical requirements; Data extraction, preparation and transformation\\n- Identification, development and implementation of statistical techniques and algorithms that address business challenges and adds value to the organisation\\n- Requirement Analysis and communication of findings in the form of a meaningful story with the stakeholders\\nCenter for Artificial Intelligence & Advanced Analytics (CAIA) focuses on the following:\\n1. Global Research on emerging trends, technologies and applications in AI and Advanced Analytics\\n2. Advanced Training programs for readying the future ready workforce\\n3. Solutions to herald the futuristic lifestyle and workspaces in the field of AI and Data Science.\\nhttp://www.centerforaia.com/\\nCenter for Artificial Intelligence and Advanced Analytics (Center for AIA) is the brainchild of experienced and visionary alumni of IIT Madras and Bombay. Digital leaders 5F World and Systech Solutions have joined hands to create a venture for architecting the future of society, workforce, governments and businesses. 5F World specializes in designing solutions around digital platforms and Systech Solutions has an expertise in architecting Artificial Intelligence and Advanced Analytics solutions for Fortune 500 companies through specialized programmed.\\n5F World\\n5F World is a leader in digital transformational journeys and has brought together the best minds in industry, academia and technology domains to develop a unique framework to transform stakeholder journeys through innovation and digitalization of businesses and education institutions.\\nSystech Solutions\\nSystech Solutions is a leading organisation in Data Strategy, Management & Analytics services provider with deep technology expertise and over 20 years of industry experience. Systech Solutions helps empower clients with innovative, data-driven solutions to reimagine their enterprise and has forged partnerships with industry-leading technology providers to develop a full spectrum of data services.\\n\\nWebsite\\nhttp://www.centerforaia.com/\\n\\nhttps://inflexion-analytix-private-limited.business.site/?m=true\\n\\n\\n\\n',\n",
       " \"Dear Candidate,\\n\\nGreetings from HCL!!!\\nWe are looking for Data scientists with experience in machine learning algorithms and strong SQL experience.\\nIf you are Keen with Below Skill Set. Please do send the Updated CV with details such as current ctc, expected ctc and notice period to m_divvya@hcl.com / 8754448290.We are looking only for immediate joiners. Candidates with more than 30 days notice please don't apply.\\n\\n\\nTechnical Skills:\\nOverall 5+ years of experience in advanced analytics and leading/mentoring team members\\nProficient in Python & SQL with minimum 2-3 years of hands on experience\\nSolid fundamentals, knowledge of supervised, unsupervised, reinforcement learning machine learning and deep learning algorithms, such as classifiers, cluster analysis, dimension reduction, regression, CNN, RNN, DQN, temporal difference methods, sequence modeling, probability theory, algorithm design and theory of computation, information retrieval\\nAbility to work and execute projects on both structured and unstructured data in a big data environment • Strong at preparing data for analysis using SQL and experience working with the industry leading BI tools like Tableau, visualizing the data and executing to specifications\\nExperience of end to end implementation of predictive analytics projects for at least 1-3 years • Exposure to text analytics, web scraping, big data technologies and graph databases would be desirable • Exposure to visualization tools • Experience of intent to learn software domain related to VMware products and the way virtualization software/hardware\\n\\nPreferred Skills:\\nGood understanding of API connections and data pipelining • Knowledge with Natural Language Processing (e.g. word2vec, doc2vec, attention, LDA) • Understanding of different model performance metrics and hyperparameter optimization • Business Acumen, ability to translate business needs into a set of workable, specific requirements • Well versed with MS PowerPoint/Visio\\nAbility to understand business requirements, KPIs and convert into analytical hypothesis in a structured and logical manner along with solution identification • Ability to handle multiple projects at a time in terms of multitasking, prioritization, allocation and team management • Ability to coordinate and work within multiple business units from project management perspective • Ability to work across geographies and interact with global stakeholders • Prior experience working in Agile methodologies/JIRA would be a plus\\nWhat we are looking for:\\nBS/BE in Computer Sciences, Math, Statistics or related field. Masters preferred.\\nProficient in SQL and experience with efficient processing of large data sets. Ability to write sophisticated and optimized queries against large databases • Proficient in data visualization tools such as Mode Analytics or Tableau • Proficient in Excel • Experience in statistical computing with Python/R • Ability to handle several concurrent activities with strong organizational skills and attention to detail We're team players. You'll do well if you're one too\",\n",
       " 'Roles and Responsibilities\\n\\n\\n- Selecting features, building and optimizing classifiers using machine learning techniques\\n\\n- Data mining using state-of-the-art methods\\n\\n- Enhancing data collection procedures to include information that is relevant for building analytic systems\\n\\n- Processing, cleansing, and verifying the integrity of data used for analysis\\n\\n- Doing ad-hoc analysis and presenting results in a clear manner\\n\\n- Creating automated anomaly detection systems and constant tracking of its performance\\n\\nSkills Required :\\n\\n- Excellent understanding of machine learning techniques and algorithms, such as k-NN, Naive Bayes, SVM, Decision Forests, etc.\\n\\n- Experiences with one or more of the following is highly desirable: HPC/Parallelization, operationalizing ML models; cloud computing (e.g. Google Cloud, AWS, etc.); familiarity with ML frameworks such as Tensorflow, Theano, MXNet, etc\\n\\n- Good experience in a few of the following areas: deep neural networks, reinforcement learning, Markov Random Fields, Bayesian networks, semi-supervised learning, computer vision, image processing, signal processing, distributed computing, and/or numerical optimization\\n\\n- 2+ years of experience with computer vision and deep learning solutions, including image classification, object detection, segmentation, and equivalent computer vision-based vision tasks\\n\\n- Experience with common data science toolkits, such as R, Weka, NumPy, etc . Excellence in at least one of these is highly desirable\\n\\n- Proficiency in using query languages such as SQL, Hive, Pig\\n\\n- Good applied statistics skills, such as distributions, statistical testing, regression, etc.\\n\\n- Good scripting and programming skills\\n\\n- Data-oriented personality\\n\\n- B.Tech/M.Tech degree in from reputed institutes like IIT / NIT / BITS',\n",
       " 'Day-to-Day Responsibilities\\nDesign and develop data science, machine learning, natural language processing, deep learning and related solutions to address business needs.\\nDesign and implement current state-of-art machine learning, algorithms related to Forecasting, Classification, Data/Text Mining, NLP, Computer Vision, Decision Trees, Adaptive Decision Algorithms, Random Forest, Search Algorithms, Neural Networks, Deep Learning Algorithms.\\nConverting the AI models into microservices and deploy them using dockers.\\nDeploy AI models in production using docker with automated data pipelines.\\nWork creatively and analytically to apply cutting edge techniques to specific challenges.\\nAssist in the management and delivery of large data science projects.\\nWork with a wide range of automation teams to validate findings and proposed analytics solutions.\\nContinuously expand personal skill sets and stay up to speed on the latest A.I. trends, tools, methodologies, and techniques.\\nSkills and Experience:\\nDemonstrates extensive knowledge and/or a proven record of success in data analytics, including the following areas:\\nIdeally at least 8 years of total experience and at least 6 years of relevant experience in the field of AI/ML.\\nBachelor s or Master s Degree in Computer Science, Engineering or other technical discipline (BE, BTech, MCA).\\nExperience in analyzing complex problems and translating them to data science algorithms with due attention to computational efficiency and testing at scale.\\nExperience in machine learning, supervised and unsupervised: Forecasting,\\nClassification, Data/Text Mining, NLP, Computer Vision, Decision Trees, Adaptive Decision Algorithms, Random Forest, Search Algorithms, Neural Networks, Deep Learning Algorithms.\\nWorked with at least one mainstream machine learning frameworks, including Caffe, ConvNet, Tensor Flow, Keras, Torch.\\nWorking proficiency with SQL and relational databases, data warehouse.\\nExperience with big data platforms - Hadoop (Hive, Pig, Map Reduce, HQL) / Spark / H20.\\nExperience with Google Cloud Platform, AWS or Azure.\\nExperience with GPU/CUDA for computational efficiency.\\nStrong implementation experience with languages, such as Python, Java, or Scala and familiarity with Linux/Unix/Shell environments.\\nStrong hands-on skills in sourcing, cleaning, identifying patterns and outliers, manipulating and analyzing large volumes of big data using distributed computing platform\\nUnderstanding of NoSQL (Graph, Document, Columnar) database models, XML, relational and other database models and associated SQL.\\nDemonstrates extensive abilities and/or a proven record of success in the application of statistical modelling, algorithms, data mining and machine learning algorithms problem solving.\\nA track record of delivery within several large-scale projects, demonstrating ownership of architecture solutions and managing change.\\nLeading, training and working with other data scientists in designing effective analytical approaches taking into consideration performance and scalability to large datasets.\\nExperience manipulating and analyzing complex, high-volume, high-dimensionality data from varying sources.\\nProven ability with NLP, Computer Vision and text-based extraction techniques.\\nUnderstanding of not only how to develop data science analytic models but how to operationalize and deploy the models as microservices in production using Dockers and automated pipelines.\\nDemonstrates extensive abilities and/or a proven record of success in the application of statistical or numerical methods, data mining, data wrangling and data-driven problem solving, including the following areas:\\nUtilizing and applying knowledge commonly used data science packages including Spark, Pandas, SciPy, and Numpy.\\nFamiliarity with deep learning architectures used for text analysis, computer vision and signal processing.\\nUtilizing programming skills and knowledge on how to write models which can be directly used in production as part of a large-scale system.\\nApplying techniques such as multivariate regressions, Bayesian probabilities, clustering algorithms, machine learning, dynamic programming, stochastic-processes, queuing theory, algorithmic knowledge to efficiently research and solve complex development problems and application of engineering methods to define, predict and evaluate the results obtained.\\nDeveloping end to end deep learning solutions for structured and unstructured data problems.\\nDeveloping and deploying A.I. solutions as part of a larger automation pipeline.\\nUsing common cloud computing platforms including Azure, AWS and GCP in addition to their respective utilities for managing and manipulating large data sources, model, development, and deployment.\\nVisualizing and communicating analytical results, using technologies such as HTML, JavaScript, Tableau, and Power BI.',\n",
       " 'Job Description\\nAt Philips, data is in the centre of everything we do. We believe that, every data item has a story of its own. If you have a penchant for unravelling the hidden patterns, then you are the person we are looking for!\\nTo build our next generation smarts, you will be working with experts in a variety of fields, including clinical & regulatory specialists, UX designers, dental and skin care professionals, system architects, product management to integrate new technologies and refine system performance. You will help build learning systems, leveraging data sets consisting of user interactions and actions, collected from hundreds of thousands of consumer devices, per day to model, analyse, and predict user behaviours. While some of our algorithms run on resource constrained devices, others require large clusters on our cloud infrastructure. As data scientist you will investigate, discern, and interpret data sets to recognize user behaviour and predict trends.\\nJob Responsibilities\\nUse predictive modeling to increase and optimize customer experiences, revenue generation, campaign optimization and other business outcomes\\nWork with product management to develop data use cases and embed predictive models in workflows on resource constrained platforms and cloud enabled.\\nSelecting features, building and optimizing classifiers using machine learning and deep learning techniques\\nCollaborates with Data Engineers to enhance data collection and ingestion/curation techniques to include information that is relevant for building analytic systems\\nProcessing, cleansing, and verifying the integrity of data used for analysis\\nDevelop processes and tools to monitor and analyze model performance and data accuracy. Life cycle management of predictive models.\\nAdherence to compliance procedures in accordance with regulatory standards, requirements, and policies. Managing and designing the reporting environment, including data sources security, and metadata.\\nJob Qualifications:\\nMaster’s degree or PhD in Computer Science, Information management, Statistics or related field, with 10+ years of experience in the Consumer or Healthcare industry manipulating data sets and building predictive models with focus on product development\\nExperience in statistical modelling, machine learning, data mining, unstructured data analytics and natural language processing. Sound understanding of - Bayesian Modelling, Classification Models, Cluster Analysis, Neural Network, Nonparametric Methods, Multivariate Statistics, etc.\\nStrong hands on knowledge of ML techniques like regression algorithms, K- NN, Nave Bayes, SVM and ensemble techniques like Random forest, AdaBoost etc\\nHaving strong knowledge in unsupervised learning algorithms using Neural networks and Deep- Learning\\nStrong knowledge in Data Wrangling and Exploration techniques to identify the patterns, trends and outliners.\\nDeep knowledge and practical experience with data science toolkits, such as NumPy, Pandas, scikit- learn or equivalent\\nExperience with data visualization tools, such as QlikView, Matplotlib, seaborn or equivalent tools.\\nProficiency in using query languages, such as SQL, PL/SQL\\nHands on experience in the one or more databases like Hadoop, AWS Redshift, Snowflake etc.\\nGood applied statistics skills, such as distributions, statistical testing, regression, etc.\\nGood ETL scripting and programming skills, such as Python, R or Scala to integrate developed solution into the proposition.\\nA team player capable of working and integrating across cross- functional team for implementing project requirements. Experience in technical requirements gathering and documentation.\\nAbility to work effectively and independently in a fast- paced global collaborative agile team environment with tight deadlines\\nA flexible, pragmatic and collaborative team player with innate ability to engage with stakeholders at all levels in the organization.\\nA self- starter with high levels of drive, energy, resilience and a desire for professional excellence with a passion for data and data science']"
      ]
     },
     "execution_count": 29,
     "metadata": {},
     "output_type": "execute_result"
    }
   ],
   "source": [
    "# Final Job_description.\n",
    "Job_description[:5]"
   ]
  },
  {
   "cell_type": "code",
   "execution_count": 30,
   "metadata": {},
   "outputs": [],
   "source": [
    "# Creating DataFrame of Data_scientist_jobs.\n",
    "Data_Scientist_Jobs = pd.DataFrame({})\n",
    "Data_Scientist_Jobs['Job_Title'] = Job_title[:10]\n",
    "Data_Scientist_Jobs['Job_Location'] = Job_location[:10]\n",
    "Data_Scientist_Jobs['Company_Name'] = Company_name[:10]\n",
    "Data_Scientist_Jobs['Job_Description'] = Job_description[:10]"
   ]
  },
  {
   "cell_type": "code",
   "execution_count": 31,
   "metadata": {},
   "outputs": [
    {
     "data": {
      "text/html": [
       "<div>\n",
       "<style scoped>\n",
       "    .dataframe tbody tr th:only-of-type {\n",
       "        vertical-align: middle;\n",
       "    }\n",
       "\n",
       "    .dataframe tbody tr th {\n",
       "        vertical-align: top;\n",
       "    }\n",
       "\n",
       "    .dataframe thead th {\n",
       "        text-align: right;\n",
       "    }\n",
       "</style>\n",
       "<table border=\"1\" class=\"dataframe\">\n",
       "  <thead>\n",
       "    <tr style=\"text-align: right;\">\n",
       "      <th></th>\n",
       "      <th>Job_Title</th>\n",
       "      <th>Job_Location</th>\n",
       "      <th>Company_Name</th>\n",
       "      <th>Job_Description</th>\n",
       "    </tr>\n",
       "  </thead>\n",
       "  <tbody>\n",
       "    <tr>\n",
       "      <td>0</td>\n",
       "      <td>Data Scientist/Data Analyst-immediate</td>\n",
       "      <td>Chennai, Pune, Bengaluru, Hyderabad</td>\n",
       "      <td>CAIA-Center For Artificial Intelligence &amp; Adva...</td>\n",
       "      <td>Dear Candidate\\n\\nSchedule a Telephonic Interv...</td>\n",
       "    </tr>\n",
       "    <tr>\n",
       "      <td>1</td>\n",
       "      <td>HCL hiring Data scientist with exp in machine ...</td>\n",
       "      <td>Bengaluru</td>\n",
       "      <td>HCL Technologies Limited</td>\n",
       "      <td>Dear Candidate,\\n\\nGreetings from HCL!!!\\nWe a...</td>\n",
       "    </tr>\n",
       "    <tr>\n",
       "      <td>2</td>\n",
       "      <td>Data Scientist - Machine Learning</td>\n",
       "      <td>Bengaluru</td>\n",
       "      <td>AugmatrixGo</td>\n",
       "      <td>Roles and Responsibilities\\n\\n\\n- Selecting fe...</td>\n",
       "    </tr>\n",
       "    <tr>\n",
       "      <td>3</td>\n",
       "      <td>Senior Associate - Data Scientist/ML Engineer</td>\n",
       "      <td>Bengaluru</td>\n",
       "      <td>Pricewaterhouse Coopers Private Limited</td>\n",
       "      <td>Day-to-Day Responsibilities\\nDesign and develo...</td>\n",
       "    </tr>\n",
       "    <tr>\n",
       "      <td>4</td>\n",
       "      <td>Senior Data Scientist</td>\n",
       "      <td>Bengaluru</td>\n",
       "      <td>Philips India Limited</td>\n",
       "      <td>Job Description\\nAt Philips, data is in the ce...</td>\n",
       "    </tr>\n",
       "    <tr>\n",
       "      <td>5</td>\n",
       "      <td>Data Scientist - Machine Learning - Remote Wor...</td>\n",
       "      <td>Delhi NCR, Bengaluru, Anywhere in India</td>\n",
       "      <td>Doji Ltd</td>\n",
       "      <td>Please note that this role will be Remote / Ho...</td>\n",
       "    </tr>\n",
       "    <tr>\n",
       "      <td>6</td>\n",
       "      <td>Software Developer - Data Scientist / NLP / Ma...</td>\n",
       "      <td>Bengaluru / Bangalore</td>\n",
       "      <td>Cunesoft India Private Limited</td>\n",
       "      <td>Roles and Responsibilities\\nWe are looking for...</td>\n",
       "    </tr>\n",
       "    <tr>\n",
       "      <td>7</td>\n",
       "      <td>Sr. Data Scientist</td>\n",
       "      <td>Bengaluru</td>\n",
       "      <td>NetApp</td>\n",
       "      <td>---</td>\n",
       "    </tr>\n",
       "    <tr>\n",
       "      <td>8</td>\n",
       "      <td>Data Scientist - Machine Learning</td>\n",
       "      <td>Bengaluru</td>\n",
       "      <td>BLUE YONDER INDIA PRIVATE LIMITED</td>\n",
       "      <td>---</td>\n",
       "    </tr>\n",
       "    <tr>\n",
       "      <td>9</td>\n",
       "      <td>Data Scientist - Machine Learning</td>\n",
       "      <td>Bengaluru</td>\n",
       "      <td>BLUE YONDER INDIA PRIVATE LIMITED</td>\n",
       "      <td>---</td>\n",
       "    </tr>\n",
       "  </tbody>\n",
       "</table>\n",
       "</div>"
      ],
      "text/plain": [
       "                                           Job_Title  \\\n",
       "0              Data Scientist/Data Analyst-immediate   \n",
       "1  HCL hiring Data scientist with exp in machine ...   \n",
       "2                  Data Scientist - Machine Learning   \n",
       "3      Senior Associate - Data Scientist/ML Engineer   \n",
       "4                              Senior Data Scientist   \n",
       "5  Data Scientist - Machine Learning - Remote Wor...   \n",
       "6  Software Developer - Data Scientist / NLP / Ma...   \n",
       "7                                 Sr. Data Scientist   \n",
       "8                  Data Scientist - Machine Learning   \n",
       "9                  Data Scientist - Machine Learning   \n",
       "\n",
       "                              Job_Location  \\\n",
       "0      Chennai, Pune, Bengaluru, Hyderabad   \n",
       "1                                Bengaluru   \n",
       "2                                Bengaluru   \n",
       "3                                Bengaluru   \n",
       "4                                Bengaluru   \n",
       "5  Delhi NCR, Bengaluru, Anywhere in India   \n",
       "6                    Bengaluru / Bangalore   \n",
       "7                                Bengaluru   \n",
       "8                                Bengaluru   \n",
       "9                                Bengaluru   \n",
       "\n",
       "                                        Company_Name  \\\n",
       "0  CAIA-Center For Artificial Intelligence & Adva...   \n",
       "1                           HCL Technologies Limited   \n",
       "2                                        AugmatrixGo   \n",
       "3            Pricewaterhouse Coopers Private Limited   \n",
       "4                              Philips India Limited   \n",
       "5                                           Doji Ltd   \n",
       "6                     Cunesoft India Private Limited   \n",
       "7                                             NetApp   \n",
       "8                  BLUE YONDER INDIA PRIVATE LIMITED   \n",
       "9                  BLUE YONDER INDIA PRIVATE LIMITED   \n",
       "\n",
       "                                     Job_Description  \n",
       "0  Dear Candidate\\n\\nSchedule a Telephonic Interv...  \n",
       "1  Dear Candidate,\\n\\nGreetings from HCL!!!\\nWe a...  \n",
       "2  Roles and Responsibilities\\n\\n\\n- Selecting fe...  \n",
       "3  Day-to-Day Responsibilities\\nDesign and develo...  \n",
       "4  Job Description\\nAt Philips, data is in the ce...  \n",
       "5  Please note that this role will be Remote / Ho...  \n",
       "6  Roles and Responsibilities\\nWe are looking for...  \n",
       "7                                                ---  \n",
       "8                                                ---  \n",
       "9                                                ---  "
      ]
     },
     "execution_count": 31,
     "metadata": {},
     "output_type": "execute_result"
    }
   ],
   "source": [
    "# Final DataFrame.\n",
    "Data_Scientist_Jobs"
   ]
  },
  {
   "cell_type": "code",
   "execution_count": null,
   "metadata": {},
   "outputs": [],
   "source": []
  },
  {
   "cell_type": "markdown",
   "metadata": {},
   "source": [
    "Q3. Find you to scrape the data of Naukri using filter Data scientist. "
   ]
  },
  {
   "cell_type": "code",
   "execution_count": 32,
   "metadata": {},
   "outputs": [],
   "source": [
    "driver = webdriver.Chrome(r\"C:\\Users\\HOMA\\Downloads\\chromedriver_win32\\chromedriver.exe\")"
   ]
  },
  {
   "cell_type": "code",
   "execution_count": 42,
   "metadata": {},
   "outputs": [],
   "source": [
    "# URL of the Naukri website after searching.\n",
    "url = 'https://www.naukri.com/data-scientist-jobs-in-delhi-ncr?k=data%20scientist&l=delhi%2Fncr&ctcFilter=3to6'"
   ]
  },
  {
   "cell_type": "code",
   "execution_count": 43,
   "metadata": {},
   "outputs": [],
   "source": [
    "# Getting URL from webdriver.\n",
    "driver.get(url)"
   ]
  },
  {
   "cell_type": "code",
   "execution_count": 44,
   "metadata": {},
   "outputs": [],
   "source": [
    "# Creating Empty Sets.\n",
    "Job_title = []\n",
    "Job_location = []\n",
    "Company_name = []\n",
    "Experience_required = []"
   ]
  },
  {
   "cell_type": "code",
   "execution_count": 45,
   "metadata": {},
   "outputs": [
    {
     "data": {
      "text/plain": [
       "[<selenium.webdriver.remote.webelement.WebElement (session=\"3fa7aeeb6db6c2ef2ef4c8664013fbb2\", element=\"1e72d93f-0749-4132-96a7-efa1f91e1c34\")>,\n",
       " <selenium.webdriver.remote.webelement.WebElement (session=\"3fa7aeeb6db6c2ef2ef4c8664013fbb2\", element=\"06df329e-5d4e-4a59-9ebb-7e01840194f8\")>,\n",
       " <selenium.webdriver.remote.webelement.WebElement (session=\"3fa7aeeb6db6c2ef2ef4c8664013fbb2\", element=\"5ab89fa1-05b2-476c-bdb2-cfddfc1c90be\")>,\n",
       " <selenium.webdriver.remote.webelement.WebElement (session=\"3fa7aeeb6db6c2ef2ef4c8664013fbb2\", element=\"a6af8bc7-4456-4313-8afd-332da9360745\")>]"
      ]
     },
     "execution_count": 45,
     "metadata": {},
     "output_type": "execute_result"
    }
   ],
   "source": [
    "# Finding elements of titles from xpath.\n",
    "titles = driver.find_elements_by_xpath(\"//a[@class='title fw500 ellipsis']\")\n",
    "titles[:4]"
   ]
  },
  {
   "cell_type": "code",
   "execution_count": 46,
   "metadata": {},
   "outputs": [
    {
     "data": {
      "text/plain": [
       "[<selenium.webdriver.remote.webelement.WebElement (session=\"3fa7aeeb6db6c2ef2ef4c8664013fbb2\", element=\"f7daa0de-8dd9-43aa-9054-1908485ebc10\")>,\n",
       " <selenium.webdriver.remote.webelement.WebElement (session=\"3fa7aeeb6db6c2ef2ef4c8664013fbb2\", element=\"6df5ac3c-0c1c-4f62-94db-f19e0f0dc927\")>,\n",
       " <selenium.webdriver.remote.webelement.WebElement (session=\"3fa7aeeb6db6c2ef2ef4c8664013fbb2\", element=\"9d4d50ec-7381-438d-9e00-c8246360b120\")>,\n",
       " <selenium.webdriver.remote.webelement.WebElement (session=\"3fa7aeeb6db6c2ef2ef4c8664013fbb2\", element=\"542663ea-2042-42f6-99f7-8b5ac562e39f\")>,\n",
       " <selenium.webdriver.remote.webelement.WebElement (session=\"3fa7aeeb6db6c2ef2ef4c8664013fbb2\", element=\"49f3ee32-379f-4e04-b78c-a7069f069a24\")>]"
      ]
     },
     "execution_count": 46,
     "metadata": {},
     "output_type": "execute_result"
    }
   ],
   "source": [
    "# Finding elements of locations by xpath.\n",
    "locations = driver.find_elements_by_xpath(\"//li[@class='fleft grey-text br2 placeHolderLi location']/span[1]\")\n",
    "locations[:5]"
   ]
  },
  {
   "cell_type": "code",
   "execution_count": 47,
   "metadata": {},
   "outputs": [
    {
     "data": {
      "text/plain": [
       "[<selenium.webdriver.remote.webelement.WebElement (session=\"3fa7aeeb6db6c2ef2ef4c8664013fbb2\", element=\"45117976-b30d-4281-bdea-9b95b9c0e3fe\")>,\n",
       " <selenium.webdriver.remote.webelement.WebElement (session=\"3fa7aeeb6db6c2ef2ef4c8664013fbb2\", element=\"4f1e0dfc-1dfc-4d52-93f4-90e2569ea8c0\")>,\n",
       " <selenium.webdriver.remote.webelement.WebElement (session=\"3fa7aeeb6db6c2ef2ef4c8664013fbb2\", element=\"3987a39f-2585-4ad7-a87f-1a7b6b2f0252\")>,\n",
       " <selenium.webdriver.remote.webelement.WebElement (session=\"3fa7aeeb6db6c2ef2ef4c8664013fbb2\", element=\"7af89fd9-4b01-4d62-b154-78903535d41d\")>,\n",
       " <selenium.webdriver.remote.webelement.WebElement (session=\"3fa7aeeb6db6c2ef2ef4c8664013fbb2\", element=\"7eb5ed49-defe-442d-b811-f6cdf06e2de3\")>]"
      ]
     },
     "execution_count": 47,
     "metadata": {},
     "output_type": "execute_result"
    }
   ],
   "source": [
    "# Finding elements of companies through xpath of html code.\n",
    "companies = driver.find_elements_by_xpath(\"//a[@class='subTitle ellipsis fleft']\")\n",
    "companies[:5]"
   ]
  },
  {
   "cell_type": "code",
   "execution_count": 48,
   "metadata": {},
   "outputs": [
    {
     "data": {
      "text/plain": [
       "[<selenium.webdriver.remote.webelement.WebElement (session=\"3fa7aeeb6db6c2ef2ef4c8664013fbb2\", element=\"1224f538-21af-4928-8302-82fe5f43a3d8\")>,\n",
       " <selenium.webdriver.remote.webelement.WebElement (session=\"3fa7aeeb6db6c2ef2ef4c8664013fbb2\", element=\"126bb474-60bd-417e-bfb9-b6439c1d1ce3\")>,\n",
       " <selenium.webdriver.remote.webelement.WebElement (session=\"3fa7aeeb6db6c2ef2ef4c8664013fbb2\", element=\"7618edaf-b99c-4676-82ed-ff471d4878e0\")>,\n",
       " <selenium.webdriver.remote.webelement.WebElement (session=\"3fa7aeeb6db6c2ef2ef4c8664013fbb2\", element=\"f4672774-f008-4c9d-ba1e-72beb5d9aeb1\")>,\n",
       " <selenium.webdriver.remote.webelement.WebElement (session=\"3fa7aeeb6db6c2ef2ef4c8664013fbb2\", element=\"dafb0b9e-2997-4d76-8ded-0f7308899768\")>]"
      ]
     },
     "execution_count": 48,
     "metadata": {},
     "output_type": "execute_result"
    }
   ],
   "source": [
    "# Finding elements of experiences through xpath.\n",
    "experiences = driver.find_elements_by_xpath(\"//li[@class='fleft grey-text br2 placeHolderLi experience']/span[1]\")\n",
    "experiences[:5]"
   ]
  },
  {
   "cell_type": "code",
   "execution_count": 49,
   "metadata": {},
   "outputs": [
    {
     "data": {
      "text/plain": [
       "['Noida',\n",
       " 'Noida',\n",
       " 'Delhi NCR, Gurgaon',\n",
       " 'Faridabad, Delhi NCR, Ghaziabad',\n",
       " 'Delhi/NCR Delhi NCR, Noida',\n",
       " 'Pune, Bengaluru, Gurgaon',\n",
       " 'Gurgaon Gurugram',\n",
       " 'Gurgaon',\n",
       " 'Delhi NCR',\n",
       " 'Gurgaon']"
      ]
     },
     "execution_count": 49,
     "metadata": {},
     "output_type": "execute_result"
    }
   ],
   "source": [
    "# Using for loop and appending the text into empty set Job_location to get Job_location.\n",
    "for i in locations:\n",
    "    location = i.text\n",
    "    Job_location.append(location)\n",
    "Job_location[:10]"
   ]
  },
  {
   "cell_type": "code",
   "execution_count": 51,
   "metadata": {},
   "outputs": [
    {
     "data": {
      "text/plain": [
       "['Data Scientist - Python/Machine Learning',\n",
       " 'Tech Mahindra hiring For Data Scientist- Noida',\n",
       " 'Data Scientist - Commercial Planning and Analysis',\n",
       " 'Data Scientist',\n",
       " 'Data Scientist - Machine Learning/ Artificial Intelligence - IT',\n",
       " 'GCP Skilled Analytics Resources (Data engineer / Data scientists)',\n",
       " 'Data Scientist',\n",
       " 'Data Scientist Machine Learning',\n",
       " 'Data Scientist',\n",
       " 'Business Analyst - Data Scientist']"
      ]
     },
     "execution_count": 51,
     "metadata": {},
     "output_type": "execute_result"
    }
   ],
   "source": [
    "# Using for loop and appending the text into empty set Job_title.\n",
    "for i in titles:\n",
    "    Job_title.append(i.text)\n",
    "Job_title[:10]"
   ]
  },
  {
   "cell_type": "code",
   "execution_count": 52,
   "metadata": {},
   "outputs": [
    {
     "data": {
      "text/plain": [
       "['Jubna',\n",
       " 'tech mahindra ltd',\n",
       " 'Air Asia India Limited',\n",
       " 'Amity University',\n",
       " 'Talent Acceleration Corridor',\n",
       " 'Aerial Telecom Solutions Pvt. Ltd.',\n",
       " 'IBM India Pvt. Limited',\n",
       " 'Delhivery',\n",
       " 'Eighteen Pixels India Private Limited',\n",
       " 'HyreFox Consultants Pvt Ltd']"
      ]
     },
     "execution_count": 52,
     "metadata": {},
     "output_type": "execute_result"
    }
   ],
   "source": [
    "# Using for loop and appending the text into empty set company_name.\n",
    "for i in companies:\n",
    "    company = i.text\n",
    "    Company_name.append(company)\n",
    "Company_name[:10]"
   ]
  },
  {
   "cell_type": "code",
   "execution_count": 53,
   "metadata": {},
   "outputs": [
    {
     "data": {
      "text/plain": [
       "['5-8 Yrs',\n",
       " '5-10 Yrs',\n",
       " '1-6 Yrs',\n",
       " '6-8 Yrs',\n",
       " '6-11 Yrs',\n",
       " '3-8 Yrs',\n",
       " '3-5 Yrs',\n",
       " '1-3 Yrs',\n",
       " '2-6 Yrs',\n",
       " '3-5 Yrs']"
      ]
     },
     "execution_count": 53,
     "metadata": {},
     "output_type": "execute_result"
    }
   ],
   "source": [
    "# Using for loop and appending the text into empty set Experience_required.\n",
    "for i in experiences:\n",
    "    experience = i.text\n",
    "    Experience_required.append(experience)\n",
    "Experience_required[:10]"
   ]
  },
  {
   "cell_type": "code",
   "execution_count": 54,
   "metadata": {},
   "outputs": [],
   "source": [
    "# Creating DataFrame of Jobs.\n",
    "Jobs = pd.DataFrame({})\n",
    "Jobs['Title'] = Job_title[:10]\n",
    "Jobs['Location'] = Job_location[:10]\n",
    "Jobs['Company_Name'] = Company_name[:10]\n",
    "Jobs['Experience_Required'] = Experience_required[:10]"
   ]
  },
  {
   "cell_type": "code",
   "execution_count": 55,
   "metadata": {},
   "outputs": [
    {
     "data": {
      "text/html": [
       "<div>\n",
       "<style scoped>\n",
       "    .dataframe tbody tr th:only-of-type {\n",
       "        vertical-align: middle;\n",
       "    }\n",
       "\n",
       "    .dataframe tbody tr th {\n",
       "        vertical-align: top;\n",
       "    }\n",
       "\n",
       "    .dataframe thead th {\n",
       "        text-align: right;\n",
       "    }\n",
       "</style>\n",
       "<table border=\"1\" class=\"dataframe\">\n",
       "  <thead>\n",
       "    <tr style=\"text-align: right;\">\n",
       "      <th></th>\n",
       "      <th>Title</th>\n",
       "      <th>Location</th>\n",
       "      <th>Company_Name</th>\n",
       "      <th>Experience_Required</th>\n",
       "    </tr>\n",
       "  </thead>\n",
       "  <tbody>\n",
       "    <tr>\n",
       "      <td>0</td>\n",
       "      <td>Data Scientist - Python/Machine Learning</td>\n",
       "      <td>Noida</td>\n",
       "      <td>Jubna</td>\n",
       "      <td>5-8 Yrs</td>\n",
       "    </tr>\n",
       "    <tr>\n",
       "      <td>1</td>\n",
       "      <td>Tech Mahindra hiring For Data Scientist- Noida</td>\n",
       "      <td>Noida</td>\n",
       "      <td>tech mahindra ltd</td>\n",
       "      <td>5-10 Yrs</td>\n",
       "    </tr>\n",
       "    <tr>\n",
       "      <td>2</td>\n",
       "      <td>Data Scientist - Commercial Planning and Analysis</td>\n",
       "      <td>Delhi NCR, Gurgaon</td>\n",
       "      <td>Air Asia India Limited</td>\n",
       "      <td>1-6 Yrs</td>\n",
       "    </tr>\n",
       "    <tr>\n",
       "      <td>3</td>\n",
       "      <td>Data Scientist</td>\n",
       "      <td>Faridabad, Delhi NCR, Ghaziabad</td>\n",
       "      <td>Amity University</td>\n",
       "      <td>6-8 Yrs</td>\n",
       "    </tr>\n",
       "    <tr>\n",
       "      <td>4</td>\n",
       "      <td>Data Scientist - Machine Learning/ Artificial ...</td>\n",
       "      <td>Delhi/NCR Delhi NCR, Noida</td>\n",
       "      <td>Talent Acceleration Corridor</td>\n",
       "      <td>6-11 Yrs</td>\n",
       "    </tr>\n",
       "    <tr>\n",
       "      <td>5</td>\n",
       "      <td>GCP Skilled Analytics Resources (Data engineer...</td>\n",
       "      <td>Pune, Bengaluru, Gurgaon</td>\n",
       "      <td>Aerial Telecom Solutions Pvt. Ltd.</td>\n",
       "      <td>3-8 Yrs</td>\n",
       "    </tr>\n",
       "    <tr>\n",
       "      <td>6</td>\n",
       "      <td>Data Scientist</td>\n",
       "      <td>Gurgaon Gurugram</td>\n",
       "      <td>IBM India Pvt. Limited</td>\n",
       "      <td>3-5 Yrs</td>\n",
       "    </tr>\n",
       "    <tr>\n",
       "      <td>7</td>\n",
       "      <td>Data Scientist Machine Learning</td>\n",
       "      <td>Gurgaon</td>\n",
       "      <td>Delhivery</td>\n",
       "      <td>1-3 Yrs</td>\n",
       "    </tr>\n",
       "    <tr>\n",
       "      <td>8</td>\n",
       "      <td>Data Scientist</td>\n",
       "      <td>Delhi NCR</td>\n",
       "      <td>Eighteen Pixels India Private Limited</td>\n",
       "      <td>2-6 Yrs</td>\n",
       "    </tr>\n",
       "    <tr>\n",
       "      <td>9</td>\n",
       "      <td>Business Analyst - Data Scientist</td>\n",
       "      <td>Gurgaon</td>\n",
       "      <td>HyreFox Consultants Pvt Ltd</td>\n",
       "      <td>3-5 Yrs</td>\n",
       "    </tr>\n",
       "  </tbody>\n",
       "</table>\n",
       "</div>"
      ],
      "text/plain": [
       "                                               Title  \\\n",
       "0           Data Scientist - Python/Machine Learning   \n",
       "1     Tech Mahindra hiring For Data Scientist- Noida   \n",
       "2  Data Scientist - Commercial Planning and Analysis   \n",
       "3                                     Data Scientist   \n",
       "4  Data Scientist - Machine Learning/ Artificial ...   \n",
       "5  GCP Skilled Analytics Resources (Data engineer...   \n",
       "6                                     Data Scientist   \n",
       "7                    Data Scientist Machine Learning   \n",
       "8                                     Data Scientist   \n",
       "9                  Business Analyst - Data Scientist   \n",
       "\n",
       "                          Location                           Company_Name  \\\n",
       "0                            Noida                                  Jubna   \n",
       "1                            Noida                      tech mahindra ltd   \n",
       "2               Delhi NCR, Gurgaon                 Air Asia India Limited   \n",
       "3  Faridabad, Delhi NCR, Ghaziabad                       Amity University   \n",
       "4       Delhi/NCR Delhi NCR, Noida           Talent Acceleration Corridor   \n",
       "5         Pune, Bengaluru, Gurgaon     Aerial Telecom Solutions Pvt. Ltd.   \n",
       "6                 Gurgaon Gurugram                 IBM India Pvt. Limited   \n",
       "7                          Gurgaon                              Delhivery   \n",
       "8                        Delhi NCR  Eighteen Pixels India Private Limited   \n",
       "9                          Gurgaon            HyreFox Consultants Pvt Ltd   \n",
       "\n",
       "  Experience_Required  \n",
       "0             5-8 Yrs  \n",
       "1            5-10 Yrs  \n",
       "2             1-6 Yrs  \n",
       "3             6-8 Yrs  \n",
       "4            6-11 Yrs  \n",
       "5             3-8 Yrs  \n",
       "6             3-5 Yrs  \n",
       "7             1-3 Yrs  \n",
       "8             2-6 Yrs  \n",
       "9             3-5 Yrs  "
      ]
     },
     "execution_count": 55,
     "metadata": {},
     "output_type": "execute_result"
    }
   ],
   "source": [
    "# Final DataFrame.\n",
    "Jobs"
   ]
  },
  {
   "cell_type": "code",
   "execution_count": null,
   "metadata": {},
   "outputs": [],
   "source": []
  },
  {
   "cell_type": "code",
   "execution_count": null,
   "metadata": {},
   "outputs": [],
   "source": []
  },
  {
   "cell_type": "markdown",
   "metadata": {},
   "source": [
    "Q4: Write a python program to scrape data for first 10 job results for Data scientist\n",
    "Designation in Noida location. You have to scrape company_name, No. of days\n",
    "ago when job was posted, Rating of the company."
   ]
  },
  {
   "cell_type": "code",
   "execution_count": 74,
   "metadata": {},
   "outputs": [],
   "source": [
    "driver = webdriver.Chrome(r\"C:\\Users\\HOMA\\Downloads\\chromedriver_win32\\chromedriver.exe\")"
   ]
  },
  {
   "cell_type": "code",
   "execution_count": 75,
   "metadata": {},
   "outputs": [],
   "source": [
    "# URL of the Glassdoor Website.\n",
    "url = 'https://www.glassdoor.co.in/Job/noida-data-scientist-jobs-SRCH_IL.0,5_IC4477468_KO6,20.htm'"
   ]
  },
  {
   "cell_type": "code",
   "execution_count": 76,
   "metadata": {},
   "outputs": [],
   "source": [
    "# Getting URL through webdriver.\n",
    "driver.get(url)"
   ]
  },
  {
   "cell_type": "code",
   "execution_count": 77,
   "metadata": {},
   "outputs": [],
   "source": [
    "# Craeting empty sets.\n",
    "Company_name = []\n",
    "No_of_days_ago_job_posted = []\n",
    "Rating = []"
   ]
  },
  {
   "cell_type": "code",
   "execution_count": 78,
   "metadata": {},
   "outputs": [
    {
     "data": {
      "text/plain": [
       "[<selenium.webdriver.remote.webelement.WebElement (session=\"cc675a5305fafbda02b8131f659650d0\", element=\"5ed5d799-eebc-4e26-8645-15de21029540\")>,\n",
       " <selenium.webdriver.remote.webelement.WebElement (session=\"cc675a5305fafbda02b8131f659650d0\", element=\"cf238f14-e060-4148-a521-db7fab934614\")>,\n",
       " <selenium.webdriver.remote.webelement.WebElement (session=\"cc675a5305fafbda02b8131f659650d0\", element=\"20c97bc1-215a-42dc-a461-bb36f934daef\")>,\n",
       " <selenium.webdriver.remote.webelement.WebElement (session=\"cc675a5305fafbda02b8131f659650d0\", element=\"689e39ea-dcf4-45ab-ad10-00a2a7508f19\")>,\n",
       " <selenium.webdriver.remote.webelement.WebElement (session=\"cc675a5305fafbda02b8131f659650d0\", element=\"d562bd58-b6fb-4727-be32-b5ab82c8acc4\")>]"
      ]
     },
     "execution_count": 78,
     "metadata": {},
     "output_type": "execute_result"
    }
   ],
   "source": [
    "# Finding elements of company_name through xpath of html code.\n",
    "company_name = driver.find_elements_by_xpath(\"//div[@class='jobHeader d-flex justify-content-between align-items-start']\")\n",
    "company_name[:5]"
   ]
  },
  {
   "cell_type": "code",
   "execution_count": 79,
   "metadata": {},
   "outputs": [
    {
     "data": {
      "text/plain": [
       "['UnitedHealth Group',\n",
       " 'QuantumIT',\n",
       " 'Biz2Credit Inc',\n",
       " 'Salasar New Age Technologies',\n",
       " 'Salasar New Age Technologies',\n",
       " 'Emerging India Group',\n",
       " 'Techlive',\n",
       " 'Dürr Somac GmbH',\n",
       " 'Dürr AG',\n",
       " 'DonePull']"
      ]
     },
     "execution_count": 79,
     "metadata": {},
     "output_type": "execute_result"
    }
   ],
   "source": [
    "## Using for loop and appending the text into empty set company_name to get company_name result.\n",
    "for i in company_name:\n",
    "    companies = i.text\n",
    "    Company_name.append(companies)\n",
    "Company_name[:10]"
   ]
  },
  {
   "cell_type": "code",
   "execution_count": 80,
   "metadata": {},
   "outputs": [
    {
     "data": {
      "text/plain": [
       "[<selenium.webdriver.remote.webelement.WebElement (session=\"cc675a5305fafbda02b8131f659650d0\", element=\"56258bfb-cff9-4f1a-9c1d-fc8cdfa9fc87\")>,\n",
       " <selenium.webdriver.remote.webelement.WebElement (session=\"cc675a5305fafbda02b8131f659650d0\", element=\"3a55a63a-9475-4d49-bff0-10f9841210be\")>,\n",
       " <selenium.webdriver.remote.webelement.WebElement (session=\"cc675a5305fafbda02b8131f659650d0\", element=\"5f101176-0650-40b9-aea3-259e731f3667\")>,\n",
       " <selenium.webdriver.remote.webelement.WebElement (session=\"cc675a5305fafbda02b8131f659650d0\", element=\"b91a584e-490d-4ab6-b40d-2bac9f1355dd\")>,\n",
       " <selenium.webdriver.remote.webelement.WebElement (session=\"cc675a5305fafbda02b8131f659650d0\", element=\"b93616d7-541c-4bc9-b068-372adfdd379c\")>]"
      ]
     },
     "execution_count": 80,
     "metadata": {},
     "output_type": "execute_result"
    }
   ],
   "source": [
    "# Finding the elements of Job_posted through xpath.\n",
    "job_posted = driver.find_elements_by_xpath(\"//div[@class='d-flex align-items-end pl-std css-mi55ob']\")\n",
    "job_posted[:5]"
   ]
  },
  {
   "cell_type": "code",
   "execution_count": 81,
   "metadata": {},
   "outputs": [
    {
     "data": {
      "text/plain": [
       "['24h', '9d', '30d+', '30d+', '30d+']"
      ]
     },
     "execution_count": 81,
     "metadata": {},
     "output_type": "execute_result"
    }
   ],
   "source": [
    "# Using for loop and appending the text into empty set Number of days ago job posted.\n",
    "for i in job_posted:\n",
    "    job = i.text\n",
    "    No_of_days_ago_job_posted.append(job)\n",
    "No_of_days_ago_job_posted[:5]"
   ]
  },
  {
   "cell_type": "code",
   "execution_count": 85,
   "metadata": {},
   "outputs": [
    {
     "data": {
      "text/plain": [
       "[<selenium.webdriver.remote.webelement.WebElement (session=\"cc675a5305fafbda02b8131f659650d0\", element=\"949bf6f6-bd67-4602-b046-f86ffb1d57d3\")>,\n",
       " <selenium.webdriver.remote.webelement.WebElement (session=\"cc675a5305fafbda02b8131f659650d0\", element=\"c2390fa7-1077-481f-9980-77cafd9e020c\")>,\n",
       " <selenium.webdriver.remote.webelement.WebElement (session=\"cc675a5305fafbda02b8131f659650d0\", element=\"a7ff3bf9-ccc5-4ef4-be2c-12b5cf3fee74\")>,\n",
       " <selenium.webdriver.remote.webelement.WebElement (session=\"cc675a5305fafbda02b8131f659650d0\", element=\"a8eb655c-0fe0-4094-9386-5c5623e2d3e5\")>,\n",
       " <selenium.webdriver.remote.webelement.WebElement (session=\"cc675a5305fafbda02b8131f659650d0\", element=\"2195094e-9cb5-4d1b-94a9-2ad74149fcfc\")>]"
      ]
     },
     "execution_count": 85,
     "metadata": {},
     "output_type": "execute_result"
    }
   ],
   "source": [
    "# Finding the elements of ratings through driver by xpath.\n",
    "ratings = driver.find_elements_by_xpath(\"//span[@class='compactStars ']\")\n",
    "ratings[:5]"
   ]
  },
  {
   "cell_type": "code",
   "execution_count": 86,
   "metadata": {},
   "outputs": [
    {
     "data": {
      "text/plain": [
       "['3.5', '3.3', '3.7', '5', '3.6']"
      ]
     },
     "execution_count": 86,
     "metadata": {},
     "output_type": "execute_result"
    }
   ],
   "source": [
    "# Using for loop and appending the text into empty set Rating.\n",
    "for i in ratings:\n",
    "    rating=i.text\n",
    "    Rating.append(rating)\n",
    "Rating[:5]"
   ]
  },
  {
   "cell_type": "code",
   "execution_count": 89,
   "metadata": {},
   "outputs": [],
   "source": [
    "# Creating DataFrame of Glassdoor Jobs.\n",
    "Glassdoor_Jobs = pd.DataFrame({})\n",
    "Glassdoor_Jobs['Company_Name'] = Company_name[:10]\n",
    "Glassdoor_Jobs['Days_ago_job_posted'] = No_of_days_ago_job_posted[:10]\n",
    "Glassdoor_Jobs['Company_Rating'] = Rating[:10]"
   ]
  },
  {
   "cell_type": "code",
   "execution_count": 90,
   "metadata": {},
   "outputs": [
    {
     "data": {
      "text/html": [
       "<div>\n",
       "<style scoped>\n",
       "    .dataframe tbody tr th:only-of-type {\n",
       "        vertical-align: middle;\n",
       "    }\n",
       "\n",
       "    .dataframe tbody tr th {\n",
       "        vertical-align: top;\n",
       "    }\n",
       "\n",
       "    .dataframe thead th {\n",
       "        text-align: right;\n",
       "    }\n",
       "</style>\n",
       "<table border=\"1\" class=\"dataframe\">\n",
       "  <thead>\n",
       "    <tr style=\"text-align: right;\">\n",
       "      <th></th>\n",
       "      <th>Company_Name</th>\n",
       "      <th>Days_ago_job_posted</th>\n",
       "      <th>Company_Rating</th>\n",
       "    </tr>\n",
       "  </thead>\n",
       "  <tbody>\n",
       "    <tr>\n",
       "      <td>0</td>\n",
       "      <td>UnitedHealth Group</td>\n",
       "      <td>24h</td>\n",
       "      <td>3.5</td>\n",
       "    </tr>\n",
       "    <tr>\n",
       "      <td>1</td>\n",
       "      <td>QuantumIT</td>\n",
       "      <td>9d</td>\n",
       "      <td>3.3</td>\n",
       "    </tr>\n",
       "    <tr>\n",
       "      <td>2</td>\n",
       "      <td>Biz2Credit Inc</td>\n",
       "      <td>30d+</td>\n",
       "      <td>3.7</td>\n",
       "    </tr>\n",
       "    <tr>\n",
       "      <td>3</td>\n",
       "      <td>Salasar New Age Technologies</td>\n",
       "      <td>30d+</td>\n",
       "      <td>5</td>\n",
       "    </tr>\n",
       "    <tr>\n",
       "      <td>4</td>\n",
       "      <td>Salasar New Age Technologies</td>\n",
       "      <td>30d+</td>\n",
       "      <td>3.6</td>\n",
       "    </tr>\n",
       "    <tr>\n",
       "      <td>5</td>\n",
       "      <td>Emerging India Group</td>\n",
       "      <td>20d</td>\n",
       "      <td>3.8</td>\n",
       "    </tr>\n",
       "    <tr>\n",
       "      <td>6</td>\n",
       "      <td>Techlive</td>\n",
       "      <td>30d+</td>\n",
       "      <td>3</td>\n",
       "    </tr>\n",
       "    <tr>\n",
       "      <td>7</td>\n",
       "      <td>Dürr Somac GmbH</td>\n",
       "      <td>30d+</td>\n",
       "      <td>3.9</td>\n",
       "    </tr>\n",
       "    <tr>\n",
       "      <td>8</td>\n",
       "      <td>Dürr AG</td>\n",
       "      <td>30d+</td>\n",
       "      <td>3.9</td>\n",
       "    </tr>\n",
       "    <tr>\n",
       "      <td>9</td>\n",
       "      <td>DonePull</td>\n",
       "      <td>24h</td>\n",
       "      <td>3</td>\n",
       "    </tr>\n",
       "  </tbody>\n",
       "</table>\n",
       "</div>"
      ],
      "text/plain": [
       "                   Company_Name Days_ago_job_posted Company_Rating\n",
       "0            UnitedHealth Group                 24h            3.5\n",
       "1                     QuantumIT                  9d            3.3\n",
       "2                Biz2Credit Inc                30d+            3.7\n",
       "3  Salasar New Age Technologies                30d+              5\n",
       "4  Salasar New Age Technologies                30d+            3.6\n",
       "5          Emerging India Group                 20d            3.8\n",
       "6                      Techlive                30d+              3\n",
       "7               Dürr Somac GmbH                30d+            3.9\n",
       "8                       Dürr AG                30d+            3.9\n",
       "9                      DonePull                 24h              3"
      ]
     },
     "execution_count": 90,
     "metadata": {},
     "output_type": "execute_result"
    }
   ],
   "source": [
    "# Final DataFrame.\n",
    "Glassdoor_Jobs"
   ]
  },
  {
   "cell_type": "code",
   "execution_count": null,
   "metadata": {},
   "outputs": [],
   "source": []
  },
  {
   "cell_type": "markdown",
   "metadata": {},
   "source": [
    "Q5: Write a python program to scrape the salary data for Data Scientist designation\n",
    "in Noida location."
   ]
  },
  {
   "cell_type": "code",
   "execution_count": 116,
   "metadata": {},
   "outputs": [],
   "source": [
    "driver = webdriver.Chrome(r\"C:\\Users\\HOMA\\Downloads\\chromedriver_win32\\chromedriver.exe\")"
   ]
  },
  {
   "cell_type": "code",
   "execution_count": 117,
   "metadata": {},
   "outputs": [],
   "source": [
    "# URL of the Glassdoor website.\n",
    "url = 'https://www.glassdoor.co.in/Salaries/new-delhi-data-scientist-salary-SRCH_IL.0,9_IM1083_KO10,24.htm?clickSource=searchBtn'"
   ]
  },
  {
   "cell_type": "code",
   "execution_count": 118,
   "metadata": {},
   "outputs": [],
   "source": [
    "# Getting URL from webdriver.chrome.\n",
    "driver.get(url)"
   ]
  },
  {
   "cell_type": "code",
   "execution_count": 119,
   "metadata": {},
   "outputs": [],
   "source": [
    "# Creating empty sets.\n",
    "Company_name = []\n",
    "Number_of_salaries = []\n",
    "Min_salary = []\n",
    "Max_salary = []"
   ]
  },
  {
   "cell_type": "code",
   "execution_count": 120,
   "metadata": {},
   "outputs": [
    {
     "data": {
      "text/plain": [
       "[<selenium.webdriver.remote.webelement.WebElement (session=\"b185d1b8be6c97cdac98d0adcba2995f\", element=\"76ff6f59-627d-44d7-bad0-6ea543d5f6cd\")>,\n",
       " <selenium.webdriver.remote.webelement.WebElement (session=\"b185d1b8be6c97cdac98d0adcba2995f\", element=\"367a8564-3210-4803-b8c0-3792914a335f\")>,\n",
       " <selenium.webdriver.remote.webelement.WebElement (session=\"b185d1b8be6c97cdac98d0adcba2995f\", element=\"2075a68e-6038-46c9-8e99-0a8848f61172\")>,\n",
       " <selenium.webdriver.remote.webelement.WebElement (session=\"b185d1b8be6c97cdac98d0adcba2995f\", element=\"54427e92-8ec7-4569-b3ca-016e54c05997\")>,\n",
       " <selenium.webdriver.remote.webelement.WebElement (session=\"b185d1b8be6c97cdac98d0adcba2995f\", element=\"06d1bca9-1d3d-4d16-bf28-89e16fe04385\")>]"
      ]
     },
     "execution_count": 120,
     "metadata": {},
     "output_type": "execute_result"
    }
   ],
   "source": [
    "# Finding elements of the company_name through driver by xpath.\n",
    "company_name = driver.find_elements_by_xpath(\"//div[@data-test='job-info']/p[2]\")\n",
    "company_name[:5]"
   ]
  },
  {
   "cell_type": "code",
   "execution_count": 121,
   "metadata": {},
   "outputs": [
    {
     "data": {
      "text/plain": [
       "['Delhivery',\n",
       " 'Ericsson-Worldwide',\n",
       " 'Accenture',\n",
       " 'Tata Consultancy Services',\n",
       " 'IBM',\n",
       " 'UnitedHealth Group',\n",
       " 'Valiance Solutions',\n",
       " 'Innovaccer',\n",
       " 'Cognizant Technology Solutions',\n",
       " 'ZS Associates']"
      ]
     },
     "execution_count": 121,
     "metadata": {},
     "output_type": "execute_result"
    }
   ],
   "source": [
    "# Using for loop and appending the text into empty set company_name.\n",
    "for i in company_name:\n",
    "    name=i.text\n",
    "    Company_name.append(name)\n",
    "Company_name[:10]"
   ]
  },
  {
   "cell_type": "code",
   "execution_count": 122,
   "metadata": {},
   "outputs": [
    {
     "data": {
      "text/plain": [
       "[<selenium.webdriver.remote.webelement.WebElement (session=\"b185d1b8be6c97cdac98d0adcba2995f\", element=\"084e383a-bcdf-45a9-9a1f-abd2cd60dbc1\")>,\n",
       " <selenium.webdriver.remote.webelement.WebElement (session=\"b185d1b8be6c97cdac98d0adcba2995f\", element=\"4aedf0ed-8950-44a8-ba3d-e28c8d0eb899\")>,\n",
       " <selenium.webdriver.remote.webelement.WebElement (session=\"b185d1b8be6c97cdac98d0adcba2995f\", element=\"cd6379a4-4546-4b1a-832f-f7679617b274\")>,\n",
       " <selenium.webdriver.remote.webelement.WebElement (session=\"b185d1b8be6c97cdac98d0adcba2995f\", element=\"efdecba4-9459-4429-99f5-febc5298e23a\")>,\n",
       " <selenium.webdriver.remote.webelement.WebElement (session=\"b185d1b8be6c97cdac98d0adcba2995f\", element=\"1b8bbfe9-73b4-43ae-901d-7d3adbf92e1d\")>]"
      ]
     },
     "execution_count": 122,
     "metadata": {},
     "output_type": "execute_result"
    }
   ],
   "source": [
    "# Finding elements for number of salaries through driver by xpath.\n",
    "no_of_salaries = driver.find_elements_by_xpath(\"//p[@class='css-1uyte9r css-1kuy7z7 m-0 ']\")\n",
    "no_of_salaries[:5]"
   ]
  },
  {
   "cell_type": "code",
   "execution_count": 123,
   "metadata": {},
   "outputs": [
    {
     "data": {
      "text/plain": [
       "['13 salaries',\n",
       " '11 salaries',\n",
       " '10 salaries',\n",
       " '9 salaries',\n",
       " '9 salaries',\n",
       " '8 salaries',\n",
       " '8 salaries',\n",
       " '7 salaries',\n",
       " '6 salaries',\n",
       " '5 salaries']"
      ]
     },
     "execution_count": 123,
     "metadata": {},
     "output_type": "execute_result"
    }
   ],
   "source": [
    "# Using for loop and appending the text into empty set Number of salaries.\n",
    "for i in no_of_salaries:\n",
    "    number=i.text\n",
    "    Number_of_salaries.append(number)\n",
    "Number_of_salaries[:10]"
   ]
  },
  {
   "cell_type": "code",
   "execution_count": 124,
   "metadata": {},
   "outputs": [
    {
     "data": {
      "text/plain": [
       "[<selenium.webdriver.remote.webelement.WebElement (session=\"b185d1b8be6c97cdac98d0adcba2995f\", element=\"bd6305ca-27bf-4901-8efb-1cfeb4c7f65f\")>,\n",
       " <selenium.webdriver.remote.webelement.WebElement (session=\"b185d1b8be6c97cdac98d0adcba2995f\", element=\"669f3bbf-d107-4f61-bfd7-b523592c2c6e\")>,\n",
       " <selenium.webdriver.remote.webelement.WebElement (session=\"b185d1b8be6c97cdac98d0adcba2995f\", element=\"a114bd68-526d-44bd-93b6-76e8f1d45f56\")>,\n",
       " <selenium.webdriver.remote.webelement.WebElement (session=\"b185d1b8be6c97cdac98d0adcba2995f\", element=\"afadfbf8-254f-4a79-ba84-d92e9ec04173\")>,\n",
       " <selenium.webdriver.remote.webelement.WebElement (session=\"b185d1b8be6c97cdac98d0adcba2995f\", element=\"127f2b41-31ca-46c5-a62d-133c98917e4b\")>]"
      ]
     },
     "execution_count": 124,
     "metadata": {},
     "output_type": "execute_result"
    }
   ],
   "source": [
    "# Finding elements of minimum salary through driver and xpath.\n",
    "min_salary = driver.find_elements_by_xpath(\"//div[@class='common__RangeBarStyle__values common__flex__justifySpaceBetween common__flex__container ']/span[1]\")\n",
    "min_salary[:5]"
   ]
  },
  {
   "cell_type": "code",
   "execution_count": 125,
   "metadata": {},
   "outputs": [
    {
     "data": {
      "text/plain": [
       "['₹456K',\n",
       " '₹420K',\n",
       " '₹585K',\n",
       " '₹336K',\n",
       " '₹595K',\n",
       " '₹727K',\n",
       " '₹509K',\n",
       " '₹629K',\n",
       " '₹804K',\n",
       " '₹205K']"
      ]
     },
     "execution_count": 125,
     "metadata": {},
     "output_type": "execute_result"
    }
   ],
   "source": [
    "# # Using for loop and appending the text into empty set Min_salary.\n",
    "for i in min_salary:\n",
    "    min=i.text\n",
    "    Min_salary.append(min)\n",
    "Min_salary[:10]"
   ]
  },
  {
   "cell_type": "code",
   "execution_count": 126,
   "metadata": {},
   "outputs": [
    {
     "data": {
      "text/plain": [
       "[<selenium.webdriver.remote.webelement.WebElement (session=\"b185d1b8be6c97cdac98d0adcba2995f\", element=\"054d7354-7e11-47b7-84cf-5c8165544d86\")>,\n",
       " <selenium.webdriver.remote.webelement.WebElement (session=\"b185d1b8be6c97cdac98d0adcba2995f\", element=\"d7a66240-221a-4dae-85e6-78b177eb341e\")>,\n",
       " <selenium.webdriver.remote.webelement.WebElement (session=\"b185d1b8be6c97cdac98d0adcba2995f\", element=\"70a820ec-3229-4570-b76d-670988a7d00c\")>,\n",
       " <selenium.webdriver.remote.webelement.WebElement (session=\"b185d1b8be6c97cdac98d0adcba2995f\", element=\"94813fb8-92ca-46a1-bb41-8d6d1f275c6c\")>,\n",
       " <selenium.webdriver.remote.webelement.WebElement (session=\"b185d1b8be6c97cdac98d0adcba2995f\", element=\"86aedbe1-2e4f-45f3-a8e9-17e658c24ede\")>]"
      ]
     },
     "execution_count": 126,
     "metadata": {},
     "output_type": "execute_result"
    }
   ],
   "source": [
    "# Finding elements for maximum salary through driver and xpath.\n",
    "max_salary = driver.find_elements_by_xpath(\"//div[@class='common__RangeBarStyle__values common__flex__justifySpaceBetween common__flex__container ']/span[2]\")\n",
    "max_salary[:5]"
   ]
  },
  {
   "cell_type": "code",
   "execution_count": 127,
   "metadata": {},
   "outputs": [
    {
     "data": {
      "text/plain": [
       "['₹11,789K',\n",
       " '₹1,636K',\n",
       " '₹2,200K',\n",
       " '₹1,024K',\n",
       " '₹2,769K',\n",
       " '₹1,597K',\n",
       " '₹1,168K',\n",
       " '₹1,719K',\n",
       " '₹1,281K',\n",
       " '₹1,835K']"
      ]
     },
     "execution_count": 127,
     "metadata": {},
     "output_type": "execute_result"
    }
   ],
   "source": [
    "# Using for loop and appending the text into empty set Max_salary.\n",
    "for i in max_salary:\n",
    "    max=i.text\n",
    "    Max_salary.append(max)\n",
    "Max_salary[:10]"
   ]
  },
  {
   "cell_type": "code",
   "execution_count": 129,
   "metadata": {},
   "outputs": [],
   "source": [
    "# Creating DataFrame of Data_scientist_salaries.\n",
    "Data_scientist_salaries = pd.DataFrame({})\n",
    "Data_scientist_salaries['Company_Name']= Company_name[:10]\n",
    "Data_scientist_salaries['Number_of_Salaries'] = Number_of_salaries[:10]\n",
    "Data_scientist_salaries['Minimum_Salary'] = Min_salary[:10]\n",
    "Data_scientist_salaries['Maximum_Salary'] = Max_salary[:10]"
   ]
  },
  {
   "cell_type": "code",
   "execution_count": 130,
   "metadata": {},
   "outputs": [
    {
     "data": {
      "text/html": [
       "<div>\n",
       "<style scoped>\n",
       "    .dataframe tbody tr th:only-of-type {\n",
       "        vertical-align: middle;\n",
       "    }\n",
       "\n",
       "    .dataframe tbody tr th {\n",
       "        vertical-align: top;\n",
       "    }\n",
       "\n",
       "    .dataframe thead th {\n",
       "        text-align: right;\n",
       "    }\n",
       "</style>\n",
       "<table border=\"1\" class=\"dataframe\">\n",
       "  <thead>\n",
       "    <tr style=\"text-align: right;\">\n",
       "      <th></th>\n",
       "      <th>Company_Name</th>\n",
       "      <th>Number_of_Salaries</th>\n",
       "      <th>Minimum_Salary</th>\n",
       "      <th>Maximum_Salary</th>\n",
       "    </tr>\n",
       "  </thead>\n",
       "  <tbody>\n",
       "    <tr>\n",
       "      <td>0</td>\n",
       "      <td>Delhivery</td>\n",
       "      <td>13 salaries</td>\n",
       "      <td>₹456K</td>\n",
       "      <td>₹11,789K</td>\n",
       "    </tr>\n",
       "    <tr>\n",
       "      <td>1</td>\n",
       "      <td>Ericsson-Worldwide</td>\n",
       "      <td>11 salaries</td>\n",
       "      <td>₹420K</td>\n",
       "      <td>₹1,636K</td>\n",
       "    </tr>\n",
       "    <tr>\n",
       "      <td>2</td>\n",
       "      <td>Accenture</td>\n",
       "      <td>10 salaries</td>\n",
       "      <td>₹585K</td>\n",
       "      <td>₹2,200K</td>\n",
       "    </tr>\n",
       "    <tr>\n",
       "      <td>3</td>\n",
       "      <td>Tata Consultancy Services</td>\n",
       "      <td>9 salaries</td>\n",
       "      <td>₹336K</td>\n",
       "      <td>₹1,024K</td>\n",
       "    </tr>\n",
       "    <tr>\n",
       "      <td>4</td>\n",
       "      <td>IBM</td>\n",
       "      <td>9 salaries</td>\n",
       "      <td>₹595K</td>\n",
       "      <td>₹2,769K</td>\n",
       "    </tr>\n",
       "    <tr>\n",
       "      <td>5</td>\n",
       "      <td>UnitedHealth Group</td>\n",
       "      <td>8 salaries</td>\n",
       "      <td>₹727K</td>\n",
       "      <td>₹1,597K</td>\n",
       "    </tr>\n",
       "    <tr>\n",
       "      <td>6</td>\n",
       "      <td>Valiance Solutions</td>\n",
       "      <td>8 salaries</td>\n",
       "      <td>₹509K</td>\n",
       "      <td>₹1,168K</td>\n",
       "    </tr>\n",
       "    <tr>\n",
       "      <td>7</td>\n",
       "      <td>Innovaccer</td>\n",
       "      <td>7 salaries</td>\n",
       "      <td>₹629K</td>\n",
       "      <td>₹1,719K</td>\n",
       "    </tr>\n",
       "    <tr>\n",
       "      <td>8</td>\n",
       "      <td>Cognizant Technology Solutions</td>\n",
       "      <td>6 salaries</td>\n",
       "      <td>₹804K</td>\n",
       "      <td>₹1,281K</td>\n",
       "    </tr>\n",
       "    <tr>\n",
       "      <td>9</td>\n",
       "      <td>ZS Associates</td>\n",
       "      <td>5 salaries</td>\n",
       "      <td>₹205K</td>\n",
       "      <td>₹1,835K</td>\n",
       "    </tr>\n",
       "  </tbody>\n",
       "</table>\n",
       "</div>"
      ],
      "text/plain": [
       "                     Company_Name Number_of_Salaries Minimum_Salary  \\\n",
       "0                       Delhivery        13 salaries          ₹456K   \n",
       "1              Ericsson-Worldwide        11 salaries          ₹420K   \n",
       "2                       Accenture        10 salaries          ₹585K   \n",
       "3       Tata Consultancy Services         9 salaries          ₹336K   \n",
       "4                             IBM         9 salaries          ₹595K   \n",
       "5              UnitedHealth Group         8 salaries          ₹727K   \n",
       "6              Valiance Solutions         8 salaries          ₹509K   \n",
       "7                      Innovaccer         7 salaries          ₹629K   \n",
       "8  Cognizant Technology Solutions         6 salaries          ₹804K   \n",
       "9                   ZS Associates         5 salaries          ₹205K   \n",
       "\n",
       "  Maximum_Salary  \n",
       "0       ₹11,789K  \n",
       "1        ₹1,636K  \n",
       "2        ₹2,200K  \n",
       "3        ₹1,024K  \n",
       "4        ₹2,769K  \n",
       "5        ₹1,597K  \n",
       "6        ₹1,168K  \n",
       "7        ₹1,719K  \n",
       "8        ₹1,281K  \n",
       "9        ₹1,835K  "
      ]
     },
     "execution_count": 130,
     "metadata": {},
     "output_type": "execute_result"
    }
   ],
   "source": [
    "# Final DataFrame.\n",
    "Data_scientist_salaries"
   ]
  },
  {
   "cell_type": "code",
   "execution_count": null,
   "metadata": {},
   "outputs": [],
   "source": []
  },
  {
   "cell_type": "markdown",
   "metadata": {},
   "source": [
    "Q6 : Scrape data of first 100 sunglasses listings on flipkart.com. You have to\n",
    "scrape four attributes:\n",
    "1. Brand\n",
    "2. Product Description\n",
    "3. Price\n",
    "4. Discount %"
   ]
  },
  {
   "cell_type": "code",
   "execution_count": 156,
   "metadata": {},
   "outputs": [],
   "source": [
    "driver = webdriver.Chrome(r\"C:\\Users\\HOMA\\Downloads\\chromedriver_win32\\chromedriver.exe\")"
   ]
  },
  {
   "cell_type": "code",
   "execution_count": 157,
   "metadata": {},
   "outputs": [],
   "source": [
    "# URL of the Flipkart Website.\n",
    "url =  'https://www.flipkart.com/search?q=sunglasses&otracker=search&otracker1=search&marketplace=FLIPKART&as-show=on&as=off'"
   ]
  },
  {
   "cell_type": "code",
   "execution_count": 158,
   "metadata": {},
   "outputs": [],
   "source": [
    "# Getting into the URL by driver. \n",
    "driver.get(url)"
   ]
  },
  {
   "cell_type": "markdown",
   "metadata": {},
   "source": [
    "We can open with search button code but it was asking login.so,We used direct method to get into page url."
   ]
  },
  {
   "cell_type": "code",
   "execution_count": 174,
   "metadata": {},
   "outputs": [],
   "source": [
    "# Creating empty sets to append.\n",
    "Brand = []\n",
    "Product_description = []\n",
    "Price = []\n",
    "Discount = []"
   ]
  },
  {
   "cell_type": "code",
   "execution_count": 161,
   "metadata": {},
   "outputs": [],
   "source": [
    "# Finding elements of three pages by xpath and appending text.\n",
    "for i in range(0,3):\n",
    "    brand = driver.find_elements_by_xpath(\"//div[@class='_2WkVRV']\")\n",
    "    for i in brand:\n",
    "        Brand.append(i.text)\n",
    "        \n",
    "    description = driver.find_elements_by_xpath(\"//a[@class='IRpwTa']\")\n",
    "    for i in description:\n",
    "        Product_description.append(i.text)\n",
    "        \n",
    "    price = driver.find_elements_by_xpath(\"//div[@class='_30jeq3']\")\n",
    "    for i in price:\n",
    "        Price.append(i.text)\n",
    "        \n",
    "    discount = driver.find_elements_by_xpath(\"//div[@class='_3Ay6Sb']/span[1]\")\n",
    "    for i in discount:\n",
    "        Discount.append(i.text)\n",
    "    driver.find_element_by_xpath(\"//a[@class='_1LKTO3']\")"
   ]
  },
  {
   "cell_type": "code",
   "execution_count": 162,
   "metadata": {},
   "outputs": [
    {
     "data": {
      "text/plain": [
       "['Royal Son',\n",
       " 'ROYAL SON',\n",
       " 'FDA COLLECTION',\n",
       " 'shah collections',\n",
       " 'Phenomenal',\n",
       " 'like future',\n",
       " 'Fastrack',\n",
       " 'povty',\n",
       " 'shah collections',\n",
       " 'Deixels']"
      ]
     },
     "execution_count": 162,
     "metadata": {},
     "output_type": "execute_result"
    }
   ],
   "source": [
    "# First 10 values of Brand variable.\n",
    "Brand[:10]"
   ]
  },
  {
   "cell_type": "code",
   "execution_count": 163,
   "metadata": {},
   "outputs": [
    {
     "data": {
      "text/plain": [
       "['₹351',\n",
       " '₹527',\n",
       " '₹199',\n",
       " '₹219',\n",
       " '₹399',\n",
       " '₹181',\n",
       " '₹559',\n",
       " '₹244',\n",
       " '₹331',\n",
       " '₹179']"
      ]
     },
     "execution_count": 163,
     "metadata": {},
     "output_type": "execute_result"
    }
   ],
   "source": [
    "# First 10 values of Price variable.\n",
    "Price[:10]"
   ]
  },
  {
   "cell_type": "code",
   "execution_count": 164,
   "metadata": {},
   "outputs": [
    {
     "data": {
      "text/plain": [
       "['Mirrored Aviator Sunglasses (55)',\n",
       " 'UV Protection Retro Square Sunglasses (88)',\n",
       " 'UV Protection, Polarized, Mirrored Rectangular Sunglass...',\n",
       " 'UV Protection, Mirrored Retro Square Sunglasses (53)',\n",
       " 'Mirrored Aviator Sunglasses (Free Size)',\n",
       " 'Gradient, UV Protection Wayfarer Sunglasses (Free Size)',\n",
       " 'UV Protection Wayfarer Sunglasses (Free Size)',\n",
       " 'UV Protection Round Sunglasses (Free Size)',\n",
       " 'UV Protection Wayfarer Sunglasses (Free Size)',\n",
       " 'UV Protection Aviator Sunglasses (58)']"
      ]
     },
     "execution_count": 164,
     "metadata": {},
     "output_type": "execute_result"
    }
   ],
   "source": [
    "# First 10 values of Product_descripition variable.\n",
    "Product_description[:10]"
   ]
  },
  {
   "cell_type": "code",
   "execution_count": 165,
   "metadata": {},
   "outputs": [
    {
     "data": {
      "text/plain": [
       "['76% off',\n",
       " '73% off',\n",
       " '84% off',\n",
       " '78% off',\n",
       " '80% off',\n",
       " '83% off',\n",
       " '30% off',\n",
       " '75% off',\n",
       " '80% off',\n",
       " '90% off']"
      ]
     },
     "execution_count": 165,
     "metadata": {},
     "output_type": "execute_result"
    }
   ],
   "source": [
    "# First 10 values of Discount variable.\n",
    "Discount[:10]"
   ]
  },
  {
   "cell_type": "code",
   "execution_count": 166,
   "metadata": {},
   "outputs": [
    {
     "data": {
      "text/plain": [
       "['Royal Son',\n",
       " 'ROYAL SON',\n",
       " 'FDA COLLECTION',\n",
       " 'shah collections',\n",
       " 'Phenomenal',\n",
       " 'like future',\n",
       " 'Fastrack',\n",
       " 'povty',\n",
       " 'shah collections',\n",
       " 'Deixels',\n",
       " 'funglasses',\n",
       " 'PIRASO',\n",
       " 'FDA COLLECTION',\n",
       " 'NuVew',\n",
       " 'ETRG',\n",
       " 'ROZZETTA CRAFT',\n",
       " 'Fastrack',\n",
       " 'Phenomenal',\n",
       " 'Fastrack',\n",
       " 'Aislin',\n",
       " 'Online Mantra',\n",
       " 'kingsunglasses',\n",
       " 'ROZZETTA CRAFT',\n",
       " 'Aislin',\n",
       " 'Creative Group',\n",
       " 'INSH',\n",
       " 'Fastrack',\n",
       " 'Trendy Glasses',\n",
       " 'Rozzetta Craft',\n",
       " 'Royal Son',\n",
       " 'Royal Son',\n",
       " 'ROZZETTA CRAFT',\n",
       " 'Dannilo',\n",
       " 'Aislin',\n",
       " 'LOPO',\n",
       " 'shadz',\n",
       " 'funglasses',\n",
       " 'Trendy Glasses',\n",
       " 'Fastrack',\n",
       " 'Royal Son',\n",
       " 'Royal Son',\n",
       " 'ROYAL SON',\n",
       " 'FDA COLLECTION',\n",
       " 'shah collections',\n",
       " 'Phenomenal',\n",
       " 'like future',\n",
       " 'EYELLUSION',\n",
       " 'peter india',\n",
       " 'Singco India',\n",
       " 'ROYAL SON',\n",
       " 'Winsome',\n",
       " 'Fastrack',\n",
       " 'Riffko',\n",
       " 'JOHAENA',\n",
       " 'Farenheit',\n",
       " 'Billion',\n",
       " 'Fastrack',\n",
       " 'Elligator',\n",
       " 'Singco India',\n",
       " 'Aislin',\n",
       " 'I Flash',\n",
       " 'Singco India',\n",
       " 'like future',\n",
       " 'FDA COLLECTION',\n",
       " 'funglasses',\n",
       " 'NuVew',\n",
       " 'NuVew',\n",
       " 'Fastrack',\n",
       " 'Royal Son',\n",
       " 'Aislin',\n",
       " 'Silver Kartz',\n",
       " 'Aislin',\n",
       " 'PIRASO',\n",
       " 'dannilo',\n",
       " 'EYELLUSION',\n",
       " 'Royal Son',\n",
       " 'LEZTO',\n",
       " 'Bedst',\n",
       " 'Rich Club',\n",
       " 'Aislin',\n",
       " 'Ayezent',\n",
       " 'Riffko',\n",
       " 'Singco India',\n",
       " 'kingsunglasses',\n",
       " 'shah collections',\n",
       " 'Royal Son',\n",
       " 'EYELLUSION',\n",
       " 'peter india',\n",
       " 'Singco India',\n",
       " 'ROYAL SON',\n",
       " 'Winsome',\n",
       " 'Fastrack',\n",
       " 'Riffko',\n",
       " 'JOHAENA',\n",
       " 'Farenheit',\n",
       " 'Billion',\n",
       " 'Fastrack',\n",
       " 'Elligator',\n",
       " 'Singco India',\n",
       " 'Aislin',\n",
       " 'I Flash',\n",
       " 'Singco India',\n",
       " 'like future',\n",
       " 'FDA COLLECTION',\n",
       " 'funglasses',\n",
       " 'NuVew',\n",
       " 'NuVew',\n",
       " 'Fastrack',\n",
       " 'Royal Son',\n",
       " 'Aislin',\n",
       " 'Silver Kartz',\n",
       " 'Aislin',\n",
       " 'PIRASO',\n",
       " 'dannilo',\n",
       " 'EYELLUSION',\n",
       " 'Royal Son',\n",
       " 'LEZTO',\n",
       " 'Bedst',\n",
       " 'Rich Club',\n",
       " 'Aislin',\n",
       " 'Ayezent',\n",
       " 'Riffko',\n",
       " 'Singco India',\n",
       " 'kingsunglasses',\n",
       " 'shah collections',\n",
       " 'Royal Son',\n",
       " 'EYELLUSION',\n",
       " 'peter india',\n",
       " 'Singco India',\n",
       " 'ROYAL SON',\n",
       " 'Winsome',\n",
       " 'Fastrack',\n",
       " 'Riffko',\n",
       " 'JOHAENA',\n",
       " 'Farenheit',\n",
       " 'Billion',\n",
       " 'Fastrack',\n",
       " 'Elligator',\n",
       " 'Singco India',\n",
       " 'Aislin',\n",
       " 'I Flash',\n",
       " 'Singco India',\n",
       " 'like future',\n",
       " 'FDA COLLECTION',\n",
       " 'funglasses',\n",
       " 'NuVew',\n",
       " 'NuVew',\n",
       " 'Fastrack',\n",
       " 'Royal Son',\n",
       " 'Aislin',\n",
       " 'Silver Kartz',\n",
       " 'Aislin',\n",
       " 'PIRASO',\n",
       " 'dannilo',\n",
       " 'EYELLUSION',\n",
       " 'Royal Son',\n",
       " 'LEZTO',\n",
       " 'Bedst',\n",
       " 'Rich Club',\n",
       " 'Aislin',\n",
       " 'Ayezent',\n",
       " 'Riffko',\n",
       " 'Singco India',\n",
       " 'kingsunglasses',\n",
       " 'shah collections',\n",
       " 'Royal Son']"
      ]
     },
     "execution_count": 166,
     "metadata": {},
     "output_type": "execute_result"
    }
   ],
   "source": [
    "# Checking Brand variable.\n",
    "Brand"
   ]
  },
  {
   "cell_type": "code",
   "execution_count": 170,
   "metadata": {},
   "outputs": [],
   "source": [
    "# Creating DataFrame.\n",
    "Sun_Glasses = pd.DataFrame({})\n",
    "Sun_Glasses['Brand'] = Brand[:100]\n",
    "Sun_Glasses['Product_Description'] = Product_description[:100]\n",
    "Sun_Glasses['Price'] = Price[:100]\n",
    "Sun_Glasses['Discount'] = Discount[:100]"
   ]
  },
  {
   "cell_type": "code",
   "execution_count": 171,
   "metadata": {},
   "outputs": [
    {
     "name": "stdout",
     "output_type": "stream",
     "text": [
      "118 160 166 160\n"
     ]
    }
   ],
   "source": [
    "# Lengths of the all created variables.\n",
    "print(len(Product_description),len(Price),len(Brand),len(Discount))"
   ]
  },
  {
   "cell_type": "code",
   "execution_count": 172,
   "metadata": {},
   "outputs": [
    {
     "data": {
      "text/html": [
       "<div>\n",
       "<style scoped>\n",
       "    .dataframe tbody tr th:only-of-type {\n",
       "        vertical-align: middle;\n",
       "    }\n",
       "\n",
       "    .dataframe tbody tr th {\n",
       "        vertical-align: top;\n",
       "    }\n",
       "\n",
       "    .dataframe thead th {\n",
       "        text-align: right;\n",
       "    }\n",
       "</style>\n",
       "<table border=\"1\" class=\"dataframe\">\n",
       "  <thead>\n",
       "    <tr style=\"text-align: right;\">\n",
       "      <th></th>\n",
       "      <th>Brand</th>\n",
       "      <th>Product_Description</th>\n",
       "      <th>Price</th>\n",
       "      <th>Discount</th>\n",
       "    </tr>\n",
       "  </thead>\n",
       "  <tbody>\n",
       "    <tr>\n",
       "      <td>0</td>\n",
       "      <td>Royal Son</td>\n",
       "      <td>Mirrored Aviator Sunglasses (55)</td>\n",
       "      <td>₹351</td>\n",
       "      <td>76% off</td>\n",
       "    </tr>\n",
       "    <tr>\n",
       "      <td>1</td>\n",
       "      <td>ROYAL SON</td>\n",
       "      <td>UV Protection Retro Square Sunglasses (88)</td>\n",
       "      <td>₹527</td>\n",
       "      <td>73% off</td>\n",
       "    </tr>\n",
       "    <tr>\n",
       "      <td>2</td>\n",
       "      <td>FDA COLLECTION</td>\n",
       "      <td>UV Protection, Polarized, Mirrored Rectangular...</td>\n",
       "      <td>₹199</td>\n",
       "      <td>84% off</td>\n",
       "    </tr>\n",
       "    <tr>\n",
       "      <td>3</td>\n",
       "      <td>shah collections</td>\n",
       "      <td>UV Protection, Mirrored Retro Square Sunglasse...</td>\n",
       "      <td>₹219</td>\n",
       "      <td>78% off</td>\n",
       "    </tr>\n",
       "    <tr>\n",
       "      <td>4</td>\n",
       "      <td>Phenomenal</td>\n",
       "      <td>Mirrored Aviator Sunglasses (Free Size)</td>\n",
       "      <td>₹399</td>\n",
       "      <td>80% off</td>\n",
       "    </tr>\n",
       "    <tr>\n",
       "      <td>...</td>\n",
       "      <td>...</td>\n",
       "      <td>...</td>\n",
       "      <td>...</td>\n",
       "      <td>...</td>\n",
       "    </tr>\n",
       "    <tr>\n",
       "      <td>95</td>\n",
       "      <td>Billion</td>\n",
       "      <td>Riding Glasses, UV Protection Oval Sunglasses ...</td>\n",
       "      <td>₹284</td>\n",
       "      <td>76% off</td>\n",
       "    </tr>\n",
       "    <tr>\n",
       "      <td>96</td>\n",
       "      <td>Fastrack</td>\n",
       "      <td>Mirrored Round Sunglasses (Free Size)</td>\n",
       "      <td>₹218</td>\n",
       "      <td>83% off</td>\n",
       "    </tr>\n",
       "    <tr>\n",
       "      <td>97</td>\n",
       "      <td>Elligator</td>\n",
       "      <td>Polarized Sports, Wayfarer Sunglasses (56)</td>\n",
       "      <td>₹161</td>\n",
       "      <td>83% off</td>\n",
       "    </tr>\n",
       "    <tr>\n",
       "      <td>98</td>\n",
       "      <td>Singco India</td>\n",
       "      <td>UV Protection Shield Sunglasses (Free Size)</td>\n",
       "      <td>₹125</td>\n",
       "      <td>83% off</td>\n",
       "    </tr>\n",
       "    <tr>\n",
       "      <td>99</td>\n",
       "      <td>Aislin</td>\n",
       "      <td>UV Protection, Polarized Aviator Sunglasses (F...</td>\n",
       "      <td>₹375</td>\n",
       "      <td>70% off</td>\n",
       "    </tr>\n",
       "  </tbody>\n",
       "</table>\n",
       "<p>100 rows × 4 columns</p>\n",
       "</div>"
      ],
      "text/plain": [
       "               Brand                                Product_Description Price  \\\n",
       "0          Royal Son                   Mirrored Aviator Sunglasses (55)  ₹351   \n",
       "1          ROYAL SON         UV Protection Retro Square Sunglasses (88)  ₹527   \n",
       "2     FDA COLLECTION  UV Protection, Polarized, Mirrored Rectangular...  ₹199   \n",
       "3   shah collections  UV Protection, Mirrored Retro Square Sunglasse...  ₹219   \n",
       "4         Phenomenal            Mirrored Aviator Sunglasses (Free Size)  ₹399   \n",
       "..               ...                                                ...   ...   \n",
       "95           Billion  Riding Glasses, UV Protection Oval Sunglasses ...  ₹284   \n",
       "96          Fastrack              Mirrored Round Sunglasses (Free Size)  ₹218   \n",
       "97         Elligator         Polarized Sports, Wayfarer Sunglasses (56)  ₹161   \n",
       "98      Singco India        UV Protection Shield Sunglasses (Free Size)  ₹125   \n",
       "99            Aislin  UV Protection, Polarized Aviator Sunglasses (F...  ₹375   \n",
       "\n",
       "   Discount  \n",
       "0   76% off  \n",
       "1   73% off  \n",
       "2   84% off  \n",
       "3   78% off  \n",
       "4   80% off  \n",
       "..      ...  \n",
       "95  76% off  \n",
       "96  83% off  \n",
       "97  83% off  \n",
       "98  83% off  \n",
       "99  70% off  \n",
       "\n",
       "[100 rows x 4 columns]"
      ]
     },
     "execution_count": 172,
     "metadata": {},
     "output_type": "execute_result"
    }
   ],
   "source": [
    "# Final DataFrame.\n",
    "Sun_Glasses"
   ]
  },
  {
   "cell_type": "code",
   "execution_count": null,
   "metadata": {},
   "outputs": [],
   "source": []
  },
  {
   "cell_type": "markdown",
   "metadata": {},
   "source": [
    "Q7: Scrape 100 reviews data from flipkart.com for iphone11 phone."
   ]
  },
  {
   "cell_type": "code",
   "execution_count": 175,
   "metadata": {},
   "outputs": [],
   "source": [
    "driver = webdriver.Chrome(r\"C:\\Users\\HOMA\\Downloads\\chromedriver_win32\\chromedriver.exe\")"
   ]
  },
  {
   "cell_type": "code",
   "execution_count": 176,
   "metadata": {},
   "outputs": [],
   "source": [
    "# URL of the Flipkart website.\n",
    "url = 'https://www.flipkart.com/apple-iphone-11-black-64-gb-includesearpods-poweradapter/p/itm0f37c2240b217?pid=MOBFKCTSVZAXUHGR&lid=LSTMOBFKCTSVZAXUHGREPBFGI&marketplace.'"
   ]
  },
  {
   "cell_type": "code",
   "execution_count": 177,
   "metadata": {},
   "outputs": [],
   "source": [
    "# Getting URL website through web driver.\n",
    "driver.get(url)"
   ]
  },
  {
   "cell_type": "code",
   "execution_count": 178,
   "metadata": {},
   "outputs": [],
   "source": [
    "# Creating empty sets for Defined variables.\n",
    "Rating = []\n",
    "Review_summary = []\n",
    "Full_review = []"
   ]
  },
  {
   "cell_type": "code",
   "execution_count": 180,
   "metadata": {},
   "outputs": [],
   "source": [
    "# Change the button through driver by xpath.\n",
    "Change_button = driver.find_element_by_xpath(\"//div[@class='_3UAT2v _16PBlm']\")"
   ]
  },
  {
   "cell_type": "code",
   "execution_count": 181,
   "metadata": {},
   "outputs": [],
   "source": [
    "# Clicking the change_button.\n",
    "Change_button.click()"
   ]
  },
  {
   "cell_type": "code",
   "execution_count": 182,
   "metadata": {},
   "outputs": [],
   "source": [
    "# Finding elements of rating,review_summary and full_review through driver by xpath.\n",
    "# Using for loop and appending the text function to all defined variables.\n",
    "for i in range(0,10):\n",
    "    rating = driver.find_elements_by_xpath(\"//div[@class='_3LWZlK _1BLPMq']\")\n",
    "    for i in rating:\n",
    "        Rating.append(i.text)\n",
    "        \n",
    "    review_summary = driver.find_elements_by_xpath(\"//p[@class='_2-N8zT']\")\n",
    "    for i in review_summary:\n",
    "        Review_summary.append(i.text)\n",
    "        \n",
    "    full_review = driver.find_elements_by_xpath(\"//div[@class='t-ZTKy']\")\n",
    "    for i in full_review:\n",
    "        Full_review.append(i.text)\n",
    "    driver.find_element_by_xpath(\"//a[@class='_1LKTO3']/span[1]\")"
   ]
  },
  {
   "cell_type": "code",
   "execution_count": 183,
   "metadata": {},
   "outputs": [
    {
     "data": {
      "text/plain": [
       "['5', '5', '5', '5', '5', '5', '5', '5', '4', '5']"
      ]
     },
     "execution_count": 183,
     "metadata": {},
     "output_type": "execute_result"
    }
   ],
   "source": [
    "# Checking rating of first 10 values.\n",
    "Rating[:10]"
   ]
  },
  {
   "cell_type": "code",
   "execution_count": 184,
   "metadata": {},
   "outputs": [
    {
     "data": {
      "text/plain": [
       "['Perfect product!',\n",
       " 'Great product',\n",
       " 'Highly recommended',\n",
       " 'Perfect product!',\n",
       " 'Perfect product!',\n",
       " 'Worth every penny',\n",
       " 'Worth every penny',\n",
       " 'Wonderful',\n",
       " 'Nice product',\n",
       " 'Perfect product!']"
      ]
     },
     "execution_count": 184,
     "metadata": {},
     "output_type": "execute_result"
    }
   ],
   "source": [
    "# Checking review_summary of first 10 values.\n",
    "Review_summary[:10]"
   ]
  },
  {
   "cell_type": "code",
   "execution_count": 185,
   "metadata": {},
   "outputs": [
    {
     "data": {
      "text/plain": [
       "['Amazing phone with great cameras and better battery which gives you the best performance. I just love the camera .',\n",
       " 'Amazing Powerful and Durable Gadget.\\n\\nI’m am very happy with the camera picture quality, Amazing face id unlocked in dark room, Strong battery with perfect screen size as you can carry easily in pocket. This is my third iPhone.\\n\\nI shifted from android Samsung Note series to iPhone because of the strong build quality and peace of mind for next 3-4 years.\\n\\nDon’t think to much just go for it and I suggest you to go for minimum 128gb variant or more 256gb.\\n\\nI’ve attached my puppy pics and no fi...\\nREAD MORE',\n",
       " 'iphone 11 is a very good phone to buy only if you can compromise for the display. The display on this is device is pretty good but you can get other options with better displays in this price segment.\\nIf you can survive with an HD+ LCD panel with thicker bezels and a notch up top then this is a very good phone for you.\\nCameras are awesome, battery backup excellent, great performance and a decent premium look. Good job Apple !',\n",
       " 'It’s a must buy who is looking for an upgrade from previous generation of iPhones. If you are using XR then still you can hold on for sometime and upgrade to 2020 model else this phone is a must buy . Camera quality is amazing and wide angle is something to count upon. Performance wise it’s amazing and feels premium while holding in hand. So a big YES for this device. Go for 128 GB variant as the 4K videos will occupy lots of space and the storage can get over very quickly. Try to buy it with...\\nREAD MORE',\n",
       " 'Value for money❤️❤️\\nIts awesome mobile phone in the world ...\\nDisplay was very good and bright ..\\nTrust me freinds you r never regret after Buying..\\nJust go for it....\\nI love this phone and i switch to iphone x to 11',\n",
       " 'Best budget Iphone till date ❤️ go for it guys without second thought. Let me explain you guys about Camera, Display, battery, and performance.\\n\\nCamera: at this price range there is no comparison of camera, you’ll love the picture quality as well as video quality. I am a Vlogger I wanted an iPhone with 4k video by front camera and I got this phone and I am more than happy 😃\\n\\nBattery: I use this phone roughly as I am active social media person and I have a youtube channel. so the battery ba...\\nREAD MORE',\n",
       " 'It’s been almost a month since I have been using this phone. I upgraded from an iPhone 8. The main issue with my 8 was battery and this phone is just awesome when it comes to battery. It lasts a day and a half for me with my regular use , internet connected always with 4g\\nCan’t move forward without saying this. Battery of this phone is a life saver when I am traveling or at work when I don’t get the option to charge\\nCamera is superb. Front cam selfies and back cam photos are just awesome.\\n...\\nREAD MORE',\n",
       " '*Review after 10 months of usage*\\nDoesn\\'t seem bulky with decent touch and camera. The \"standard maintained\" quality of IPhone. Go for it, if your budget is not more enough for pro models. It\\'s a value for money among the 11 series Stereo speakers are so good, you will love the stereo sound. Battery backup is not decent but still better than Iphone 7 and 8.Processor is fast, the phone doesn\\'t lag at all even with heavy games, waterproof, faster face id and with no fingerprint scanners. The ca...\\nREAD MORE',\n",
       " 'Awesome Phone. Slightly high price but worth. Better than iPhone XR.\\nCamera is superb and wide angle camera is very clear.\\n12MP selfie camera is also very good.\\nA13 Chip gives a very good and smooth performance.',\n",
       " \"Iphone is just awesome.. battery backup is very very nice.. continuously for 10 hours we can use it.camera is just awesome.. display is just fab.i love it alot..i had to wait 15 days for it as i pre ordered it..overalll it's worth the price..these all images are clicked by my iPhone..and i love it.\"]"
      ]
     },
     "execution_count": 185,
     "metadata": {},
     "output_type": "execute_result"
    }
   ],
   "source": [
    "# Checking full_review of first 10 values.\n",
    "Full_review[:10]"
   ]
  },
  {
   "cell_type": "code",
   "execution_count": 187,
   "metadata": {},
   "outputs": [
    {
     "data": {
      "text/plain": [
       "['5', '5', '5', '5', '5']"
      ]
     },
     "execution_count": 187,
     "metadata": {},
     "output_type": "execute_result"
    }
   ],
   "source": [
    "# Checking rating of first 5 values.\n",
    "Rating[:5]"
   ]
  },
  {
   "cell_type": "code",
   "execution_count": 188,
   "metadata": {},
   "outputs": [],
   "source": [
    "# Creating DataFrame of Apple_Ratings.\n",
    "Apple_Ratings = pd.DataFrame({})\n",
    "Apple_Ratings['Ratings'] = Rating\n",
    "Apple_Ratings['Review_Summary'] = Review_summary\n",
    "Apple_Ratings['Full_Review'] = Full_review"
   ]
  },
  {
   "cell_type": "code",
   "execution_count": 189,
   "metadata": {},
   "outputs": [
    {
     "data": {
      "text/html": [
       "<div>\n",
       "<style scoped>\n",
       "    .dataframe tbody tr th:only-of-type {\n",
       "        vertical-align: middle;\n",
       "    }\n",
       "\n",
       "    .dataframe tbody tr th {\n",
       "        vertical-align: top;\n",
       "    }\n",
       "\n",
       "    .dataframe thead th {\n",
       "        text-align: right;\n",
       "    }\n",
       "</style>\n",
       "<table border=\"1\" class=\"dataframe\">\n",
       "  <thead>\n",
       "    <tr style=\"text-align: right;\">\n",
       "      <th></th>\n",
       "      <th>Ratings</th>\n",
       "      <th>Review_Summary</th>\n",
       "      <th>Full_Review</th>\n",
       "    </tr>\n",
       "  </thead>\n",
       "  <tbody>\n",
       "    <tr>\n",
       "      <td>0</td>\n",
       "      <td>5</td>\n",
       "      <td>Perfect product!</td>\n",
       "      <td>Amazing phone with great cameras and better ba...</td>\n",
       "    </tr>\n",
       "    <tr>\n",
       "      <td>1</td>\n",
       "      <td>5</td>\n",
       "      <td>Great product</td>\n",
       "      <td>Amazing Powerful and Durable Gadget.\\n\\nI’m am...</td>\n",
       "    </tr>\n",
       "    <tr>\n",
       "      <td>2</td>\n",
       "      <td>5</td>\n",
       "      <td>Highly recommended</td>\n",
       "      <td>iphone 11 is a very good phone to buy only if ...</td>\n",
       "    </tr>\n",
       "    <tr>\n",
       "      <td>3</td>\n",
       "      <td>5</td>\n",
       "      <td>Perfect product!</td>\n",
       "      <td>It’s a must buy who is looking for an upgrade ...</td>\n",
       "    </tr>\n",
       "    <tr>\n",
       "      <td>4</td>\n",
       "      <td>5</td>\n",
       "      <td>Perfect product!</td>\n",
       "      <td>Value for money❤️❤️\\nIts awesome mobile phone ...</td>\n",
       "    </tr>\n",
       "    <tr>\n",
       "      <td>...</td>\n",
       "      <td>...</td>\n",
       "      <td>...</td>\n",
       "      <td>...</td>\n",
       "    </tr>\n",
       "    <tr>\n",
       "      <td>95</td>\n",
       "      <td>5</td>\n",
       "      <td>Worth every penny</td>\n",
       "      <td>Best budget Iphone till date ❤️ go for it guys...</td>\n",
       "    </tr>\n",
       "    <tr>\n",
       "      <td>96</td>\n",
       "      <td>5</td>\n",
       "      <td>Worth every penny</td>\n",
       "      <td>It’s been almost a month since I have been usi...</td>\n",
       "    </tr>\n",
       "    <tr>\n",
       "      <td>97</td>\n",
       "      <td>5</td>\n",
       "      <td>Wonderful</td>\n",
       "      <td>*Review after 10 months of usage*\\nDoesn't see...</td>\n",
       "    </tr>\n",
       "    <tr>\n",
       "      <td>98</td>\n",
       "      <td>4</td>\n",
       "      <td>Nice product</td>\n",
       "      <td>Awesome Phone. Slightly high price but worth. ...</td>\n",
       "    </tr>\n",
       "    <tr>\n",
       "      <td>99</td>\n",
       "      <td>5</td>\n",
       "      <td>Perfect product!</td>\n",
       "      <td>Iphone is just awesome.. battery backup is ver...</td>\n",
       "    </tr>\n",
       "  </tbody>\n",
       "</table>\n",
       "<p>100 rows × 3 columns</p>\n",
       "</div>"
      ],
      "text/plain": [
       "   Ratings      Review_Summary  \\\n",
       "0        5    Perfect product!   \n",
       "1        5       Great product   \n",
       "2        5  Highly recommended   \n",
       "3        5    Perfect product!   \n",
       "4        5    Perfect product!   \n",
       "..     ...                 ...   \n",
       "95       5   Worth every penny   \n",
       "96       5   Worth every penny   \n",
       "97       5           Wonderful   \n",
       "98       4        Nice product   \n",
       "99       5    Perfect product!   \n",
       "\n",
       "                                          Full_Review  \n",
       "0   Amazing phone with great cameras and better ba...  \n",
       "1   Amazing Powerful and Durable Gadget.\\n\\nI’m am...  \n",
       "2   iphone 11 is a very good phone to buy only if ...  \n",
       "3   It’s a must buy who is looking for an upgrade ...  \n",
       "4   Value for money❤️❤️\\nIts awesome mobile phone ...  \n",
       "..                                                ...  \n",
       "95  Best budget Iphone till date ❤️ go for it guys...  \n",
       "96  It’s been almost a month since I have been usi...  \n",
       "97  *Review after 10 months of usage*\\nDoesn't see...  \n",
       "98  Awesome Phone. Slightly high price but worth. ...  \n",
       "99  Iphone is just awesome.. battery backup is ver...  \n",
       "\n",
       "[100 rows x 3 columns]"
      ]
     },
     "execution_count": 189,
     "metadata": {},
     "output_type": "execute_result"
    }
   ],
   "source": [
    "# Final DataFrame.\n",
    "Apple_Ratings"
   ]
  },
  {
   "cell_type": "code",
   "execution_count": null,
   "metadata": {},
   "outputs": [],
   "source": []
  },
  {
   "cell_type": "markdown",
   "metadata": {},
   "source": [
    "Q8: Scrape data for first 100 sneakers you find when you visit flipkart.com and\n",
    "search for “sneakers” in the search field."
   ]
  },
  {
   "cell_type": "code",
   "execution_count": 190,
   "metadata": {},
   "outputs": [],
   "source": [
    "driver = webdriver.Chrome(r\"C:\\Users\\HOMA\\Downloads\\chromedriver_win32\\chromedriver.exe\")"
   ]
  },
  {
   "cell_type": "code",
   "execution_count": 191,
   "metadata": {},
   "outputs": [],
   "source": [
    "# URL of the Flipkart website.\n",
    "url = 'https://www.flipkart.com/'"
   ]
  },
  {
   "cell_type": "code",
   "execution_count": 192,
   "metadata": {},
   "outputs": [],
   "source": [
    "# Getting URL of the website with chromedriver.\n",
    "driver.get(url)"
   ]
  },
  {
   "cell_type": "code",
   "execution_count": 193,
   "metadata": {},
   "outputs": [],
   "source": [
    "# Using search code we find element by xpath and searching the word of sneakers.And clicking using click() function.\n",
    "search_bar = driver.find_element_by_xpath(\"//input[@class='_3704LK']\")\n",
    "search_bar.click()\n",
    "search_bar.send_keys('sneakers')"
   ]
  },
  {
   "cell_type": "code",
   "execution_count": 200,
   "metadata": {},
   "outputs": [],
   "source": [
    "# Similarly clicking the search button through code.\n",
    "search_button=driver.find_element_by_xpath(\"//button[@class='L0Z3Pu']\")\n",
    "search_button.click()"
   ]
  },
  {
   "cell_type": "code",
   "execution_count": 201,
   "metadata": {},
   "outputs": [],
   "source": [
    "# Creating Empty sets .\n",
    "Brand = []\n",
    "Product_Description = []\n",
    "Price = []\n",
    "Discount = []"
   ]
  },
  {
   "cell_type": "code",
   "execution_count": 202,
   "metadata": {},
   "outputs": [],
   "source": [
    "# Finding elements brand,product_description,price and discount by xpath.\n",
    "for i in range(0,3):\n",
    "    brand = driver.find_elements_by_xpath(\"//div[@class='_2WkVRV']\")\n",
    "    for i in brand:\n",
    "        Brand.append(i.text)\n",
    "        \n",
    "    product_description = driver.find_elements_by_xpath(\"//a[@class='IRpwTa']\")\n",
    "    for i in product_description:\n",
    "        Product_Description.append(i.text)\n",
    "        \n",
    "    price = driver.find_elements_by_xpath(\"//div[@class='_30jeq3']\")\n",
    "    for i in price:\n",
    "        Price.append(i.text)\n",
    "        \n",
    "    discount = driver.find_elements_by_xpath(\"//div[@class='_3Ay6Sb']/span[1]\")\n",
    "    for i in discount:\n",
    "        Discount.append(i.text)\n",
    "    driver.find_element_by_xpath(\"//a[@class='_1LKTO3']\")"
   ]
  },
  {
   "cell_type": "code",
   "execution_count": 203,
   "metadata": {},
   "outputs": [
    {
     "data": {
      "text/plain": [
       "['Puma',\n",
       " 'Echor',\n",
       " 'Chevit',\n",
       " 'World Wear Footwear',\n",
       " 'Robbie jones',\n",
       " 'Chevit',\n",
       " 'Oricum',\n",
       " 'Stefano Rads',\n",
       " 'Chevit',\n",
       " 'Restinfoot']"
      ]
     },
     "execution_count": 203,
     "metadata": {},
     "output_type": "execute_result"
    }
   ],
   "source": [
    "# Checking 10 values of Brand.\n",
    "Brand[:10]"
   ]
  },
  {
   "cell_type": "code",
   "execution_count": 204,
   "metadata": {},
   "outputs": [
    {
     "data": {
      "text/plain": [
       "['Smash Vulc Sneakers For Men',\n",
       " 'Combo Pack of 4 Casual Sneakers With Sneakers For Men',\n",
       " 'Combo Pack of 4 Latest Collection Stylish Casual Loafer...',\n",
       " 'Casual Sneakers Shoes For Men Sneakers For Men',\n",
       " '171 Smart Tan Lace-Ups Casuals for Men Sneakers For Men',\n",
       " 'Combo pack of 2 casual sneaker shoes for men Sneakers F...',\n",
       " 'Lightweight Combo Pack of 02 Trendy Sneakers Casuals Fo...',\n",
       " \"Casual shoes,Sneakers for men's,shoes for men's Sneaker...\",\n",
       " \"White Sneaker For Men's/Boy's Sneakers For Men\",\n",
       " '170 Smart Grey Lace-Ups Casuals for Men Sneakers For Me...']"
      ]
     },
     "execution_count": 204,
     "metadata": {},
     "output_type": "execute_result"
    }
   ],
   "source": [
    "# Checking 10 values of product_description.\n",
    "Product_Description[:10]"
   ]
  },
  {
   "cell_type": "code",
   "execution_count": 205,
   "metadata": {},
   "outputs": [
    {
     "data": {
      "text/plain": [
       "['₹1,456',\n",
       " '₹601',\n",
       " '₹499',\n",
       " '₹499',\n",
       " '₹378',\n",
       " '₹224',\n",
       " '₹398',\n",
       " '₹260',\n",
       " '₹499',\n",
       " '₹350']"
      ]
     },
     "execution_count": 205,
     "metadata": {},
     "output_type": "execute_result"
    }
   ],
   "source": [
    "# Checking 10 values of Price.\n",
    "Price[:10]"
   ]
  },
  {
   "cell_type": "code",
   "execution_count": 206,
   "metadata": {},
   "outputs": [
    {
     "data": {
      "text/plain": [
       "['61% off',\n",
       " '39% off',\n",
       " '75% off',\n",
       " '75% off',\n",
       " '62% off',\n",
       " '55% off',\n",
       " '60% off',\n",
       " '62% off',\n",
       " '50% off',\n",
       " '64% off']"
      ]
     },
     "execution_count": 206,
     "metadata": {},
     "output_type": "execute_result"
    }
   ],
   "source": [
    "# Checking 10 values of discount.\n",
    "Discount[:10]"
   ]
  },
  {
   "cell_type": "code",
   "execution_count": 207,
   "metadata": {},
   "outputs": [],
   "source": [
    "# Creating DataFrame of Sneakers_Info.\n",
    "Sneakers_Info = pd.DataFrame({})\n",
    "Sneakers_Info['Brand'] = Brand[:100]\n",
    "Sneakers_Info['Product_Description'] = Product_Description[:100]\n",
    "Sneakers_Info['Price'] = Price[:100]\n",
    "Sneakers_Info['Discount'] = Discount[:100]"
   ]
  },
  {
   "cell_type": "code",
   "execution_count": 208,
   "metadata": {},
   "outputs": [
    {
     "data": {
      "text/html": [
       "<div>\n",
       "<style scoped>\n",
       "    .dataframe tbody tr th:only-of-type {\n",
       "        vertical-align: middle;\n",
       "    }\n",
       "\n",
       "    .dataframe tbody tr th {\n",
       "        vertical-align: top;\n",
       "    }\n",
       "\n",
       "    .dataframe thead th {\n",
       "        text-align: right;\n",
       "    }\n",
       "</style>\n",
       "<table border=\"1\" class=\"dataframe\">\n",
       "  <thead>\n",
       "    <tr style=\"text-align: right;\">\n",
       "      <th></th>\n",
       "      <th>Brand</th>\n",
       "      <th>Product_Description</th>\n",
       "      <th>Price</th>\n",
       "      <th>Discount</th>\n",
       "    </tr>\n",
       "  </thead>\n",
       "  <tbody>\n",
       "    <tr>\n",
       "      <td>0</td>\n",
       "      <td>Puma</td>\n",
       "      <td>Smash Vulc Sneakers For Men</td>\n",
       "      <td>₹1,456</td>\n",
       "      <td>61% off</td>\n",
       "    </tr>\n",
       "    <tr>\n",
       "      <td>1</td>\n",
       "      <td>Echor</td>\n",
       "      <td>Combo Pack of 4 Casual Sneakers With Sneakers ...</td>\n",
       "      <td>₹601</td>\n",
       "      <td>39% off</td>\n",
       "    </tr>\n",
       "    <tr>\n",
       "      <td>2</td>\n",
       "      <td>Chevit</td>\n",
       "      <td>Combo Pack of 4 Latest Collection Stylish Casu...</td>\n",
       "      <td>₹499</td>\n",
       "      <td>75% off</td>\n",
       "    </tr>\n",
       "    <tr>\n",
       "      <td>3</td>\n",
       "      <td>World Wear Footwear</td>\n",
       "      <td>Casual Sneakers Shoes For Men Sneakers For Men</td>\n",
       "      <td>₹499</td>\n",
       "      <td>75% off</td>\n",
       "    </tr>\n",
       "    <tr>\n",
       "      <td>4</td>\n",
       "      <td>Robbie jones</td>\n",
       "      <td>171 Smart Tan Lace-Ups Casuals for Men Sneaker...</td>\n",
       "      <td>₹378</td>\n",
       "      <td>62% off</td>\n",
       "    </tr>\n",
       "    <tr>\n",
       "      <td>...</td>\n",
       "      <td>...</td>\n",
       "      <td>...</td>\n",
       "      <td>...</td>\n",
       "      <td>...</td>\n",
       "    </tr>\n",
       "    <tr>\n",
       "      <td>95</td>\n",
       "      <td>Sparx</td>\n",
       "      <td>RS 2.0 Winterized Sneakers For Men</td>\n",
       "      <td>₹769</td>\n",
       "      <td>23% off</td>\n",
       "    </tr>\n",
       "    <tr>\n",
       "      <td>96</td>\n",
       "      <td>Hotstyle</td>\n",
       "      <td>EASY VULC 2.0 Sneakers For Men</td>\n",
       "      <td>₹204</td>\n",
       "      <td>59% off</td>\n",
       "    </tr>\n",
       "    <tr>\n",
       "      <td>97</td>\n",
       "      <td>Red Rose</td>\n",
       "      <td>shoes For Mens Combo(AR)-1645-1621 ( Multicolo...</td>\n",
       "      <td>₹359</td>\n",
       "      <td>64% off</td>\n",
       "    </tr>\n",
       "    <tr>\n",
       "      <td>98</td>\n",
       "      <td>Chevit</td>\n",
       "      <td>shoe Sneakers For Men</td>\n",
       "      <td>₹299</td>\n",
       "      <td>70% off</td>\n",
       "    </tr>\n",
       "    <tr>\n",
       "      <td>99</td>\n",
       "      <td>Levi's</td>\n",
       "      <td>Sneakers For Men</td>\n",
       "      <td>₹1,400</td>\n",
       "      <td>49% off</td>\n",
       "    </tr>\n",
       "  </tbody>\n",
       "</table>\n",
       "<p>100 rows × 4 columns</p>\n",
       "</div>"
      ],
      "text/plain": [
       "                  Brand                                Product_Description  \\\n",
       "0                  Puma                        Smash Vulc Sneakers For Men   \n",
       "1                 Echor  Combo Pack of 4 Casual Sneakers With Sneakers ...   \n",
       "2                Chevit  Combo Pack of 4 Latest Collection Stylish Casu...   \n",
       "3   World Wear Footwear     Casual Sneakers Shoes For Men Sneakers For Men   \n",
       "4          Robbie jones  171 Smart Tan Lace-Ups Casuals for Men Sneaker...   \n",
       "..                  ...                                                ...   \n",
       "95                Sparx                 RS 2.0 Winterized Sneakers For Men   \n",
       "96             Hotstyle                     EASY VULC 2.0 Sneakers For Men   \n",
       "97             Red Rose  shoes For Mens Combo(AR)-1645-1621 ( Multicolo...   \n",
       "98               Chevit                              shoe Sneakers For Men   \n",
       "99               Levi's                                   Sneakers For Men   \n",
       "\n",
       "     Price Discount  \n",
       "0   ₹1,456  61% off  \n",
       "1     ₹601  39% off  \n",
       "2     ₹499  75% off  \n",
       "3     ₹499  75% off  \n",
       "4     ₹378  62% off  \n",
       "..     ...      ...  \n",
       "95    ₹769  23% off  \n",
       "96    ₹204  59% off  \n",
       "97    ₹359  64% off  \n",
       "98    ₹299  70% off  \n",
       "99  ₹1,400  49% off  \n",
       "\n",
       "[100 rows x 4 columns]"
      ]
     },
     "execution_count": 208,
     "metadata": {},
     "output_type": "execute_result"
    }
   ],
   "source": [
    "# Final DataFrame.\n",
    "Sneakers_Info"
   ]
  },
  {
   "cell_type": "code",
   "execution_count": null,
   "metadata": {},
   "outputs": [],
   "source": []
  },
  {
   "cell_type": "markdown",
   "metadata": {},
   "source": [
    "Question 9:Set Price filter to “Rs. 6649 to Rs. 13099” , Color filter to “Black”, as shown in the below image and then scrape First 100 shoes data you get.The data should include “Brand” of the shoes , Short Shoe description, price of the shoe."
   ]
  },
  {
   "cell_type": "code",
   "execution_count": 2,
   "metadata": {},
   "outputs": [],
   "source": [
    "# Importing selenium and pandas.\n",
    "#\n",
    "from selenium import webdriver\n",
    "import pandas as pd\n",
    "driver = webdriver.Chrome(r\"C:\\Users\\HOMA\\Downloads\\chromedriver_win32\\chromedriver.exe\")"
   ]
  },
  {
   "cell_type": "code",
   "execution_count": 5,
   "metadata": {},
   "outputs": [],
   "source": [
    "# URL of the myntra website.\n",
    "url = 'https://www.myntra.com/shoes'"
   ]
  },
  {
   "cell_type": "code",
   "execution_count": 6,
   "metadata": {},
   "outputs": [],
   "source": [
    "# Getting the URL from web driver.\n",
    "driver.get(url)"
   ]
  },
  {
   "cell_type": "code",
   "execution_count": 9,
   "metadata": {},
   "outputs": [],
   "source": [
    "# To put the Price filter\n",
    "price_btn=driver.find_element_by_xpath('//ul[@class=\"price-list\"]/li[2]/label/div')\n",
    "price_btn.click()"
   ]
  },
  {
   "cell_type": "code",
   "execution_count": 8,
   "metadata": {},
   "outputs": [],
   "source": [
    "# To put the colour filter\n",
    "colour_button=driver.find_element_by_xpath('//li[@class=\"colour-listItem\"]/label/div')\n",
    "colour_button.click()"
   ]
  },
  {
   "cell_type": "code",
   "execution_count": 10,
   "metadata": {},
   "outputs": [],
   "source": [
    "# Craeting empty set.\n",
    "Brand = []\n",
    "Description = []\n",
    "Price = []"
   ]
  },
  {
   "cell_type": "code",
   "execution_count": 11,
   "metadata": {},
   "outputs": [],
   "source": [
    "# Finding elements of brand,description,price through driver by xpath.\n",
    "# Using for loop and appending text to empty sets.\n",
    "for i in range(0,2):\n",
    "    brand = driver.find_elements_by_xpath(\"//h3[@class='product-brand']\")\n",
    "    for i in brand:\n",
    "        Brand.append(i.text)\n",
    "        \n",
    "    description = driver.find_elements_by_xpath(\"//h4[@class='product-product']\")\n",
    "    for i in description:\n",
    "        Description.append(i.text)\n",
    "        \n",
    "    price = driver.find_elements_by_xpath(\"//div[@class='product-price']\")\n",
    "    for i in price:\n",
    "        Price.append(i.text)\n",
    "        \n",
    "    driver.find_element_by_xpath(\"//a[@rel='next']\")"
   ]
  },
  {
   "cell_type": "code",
   "execution_count": 12,
   "metadata": {},
   "outputs": [
    {
     "data": {
      "text/plain": [
       "['Nike',\n",
       " 'Nike',\n",
       " 'Nike',\n",
       " 'Nike',\n",
       " 'Puma',\n",
       " 'Nike',\n",
       " 'Nike',\n",
       " 'Nike',\n",
       " 'Nike',\n",
       " 'Nike']"
      ]
     },
     "execution_count": 12,
     "metadata": {},
     "output_type": "execute_result"
    }
   ],
   "source": [
    "# Checking 10 values of Brand.\n",
    "Brand[:10]"
   ]
  },
  {
   "cell_type": "code",
   "execution_count": 13,
   "metadata": {},
   "outputs": [
    {
     "data": {
      "text/plain": [
       "[\"Men JORDAN ZOOM '92 Shoes\",\n",
       " 'Men Zoom Running Shoes',\n",
       " 'Men JORDAN DELTA Basketball',\n",
       " 'Men ZOOM FLY 3 Running Shoes',\n",
       " 'Men HYBRID NETFIT Running Shoe',\n",
       " 'Unisex KYRIE FLYTRAP IV Shoes',\n",
       " 'Men JORDAN DELTA Sneakers',\n",
       " 'Men AIR MAX 90 Sneakers',\n",
       " 'PEGASUS FLYEASE Running Shoes',\n",
       " 'Men JOYRIDE Running Shoes']"
      ]
     },
     "execution_count": 13,
     "metadata": {},
     "output_type": "execute_result"
    }
   ],
   "source": [
    "# Checking 10 values of description.\n",
    "Description[:10]"
   ]
  },
  {
   "cell_type": "code",
   "execution_count": 14,
   "metadata": {},
   "outputs": [
    {
     "data": {
      "text/plain": [
       "['Rs. 10799Rs. 13495(Rs. 2696 OFF)',\n",
       " 'Rs. 6399Rs. 7995(Rs. 1596 OFF)',\n",
       " 'Rs. 9999Rs. 12495(Rs. 2496 OFF)',\n",
       " 'Rs. 11199Rs. 13995(Rs. 2796 OFF)',\n",
       " 'Rs. 6599Rs. 10999(40% OFF)',\n",
       " 'Rs. 6599Rs. 8195(Rs. 1596 OFF)',\n",
       " 'Rs. 8199Rs. 10995(Rs. 2796 OFF)',\n",
       " 'Rs. 7999Rs. 9995(Rs. 1996 OFF)',\n",
       " 'Rs. 7999Rs. 9995(Rs. 1996 OFF)',\n",
       " 'Rs. 11199Rs. 14995(Rs. 3796 OFF)']"
      ]
     },
     "execution_count": 14,
     "metadata": {},
     "output_type": "execute_result"
    }
   ],
   "source": [
    "# Checking 10 values of Price.\n",
    "Price[:10]"
   ]
  },
  {
   "cell_type": "code",
   "execution_count": 15,
   "metadata": {},
   "outputs": [],
   "source": [
    "#Creating into a Data Frame.\n",
    "Sneakers_Info = pd.DataFrame({})\n",
    "Sneakers_Info['Brand_name'] = Brand\n",
    "Sneakers_Info['Description'] = Description\n",
    "Sneakers_Info['Price'] = Price"
   ]
  },
  {
   "cell_type": "code",
   "execution_count": 16,
   "metadata": {},
   "outputs": [
    {
     "data": {
      "text/html": [
       "<div>\n",
       "<style scoped>\n",
       "    .dataframe tbody tr th:only-of-type {\n",
       "        vertical-align: middle;\n",
       "    }\n",
       "\n",
       "    .dataframe tbody tr th {\n",
       "        vertical-align: top;\n",
       "    }\n",
       "\n",
       "    .dataframe thead th {\n",
       "        text-align: right;\n",
       "    }\n",
       "</style>\n",
       "<table border=\"1\" class=\"dataframe\">\n",
       "  <thead>\n",
       "    <tr style=\"text-align: right;\">\n",
       "      <th></th>\n",
       "      <th>Brand_name</th>\n",
       "      <th>Description</th>\n",
       "      <th>Price</th>\n",
       "    </tr>\n",
       "  </thead>\n",
       "  <tbody>\n",
       "    <tr>\n",
       "      <td>0</td>\n",
       "      <td>Nike</td>\n",
       "      <td>Men JORDAN ZOOM '92 Shoes</td>\n",
       "      <td>Rs. 10799Rs. 13495(Rs. 2696 OFF)</td>\n",
       "    </tr>\n",
       "    <tr>\n",
       "      <td>1</td>\n",
       "      <td>Nike</td>\n",
       "      <td>Men Zoom Running Shoes</td>\n",
       "      <td>Rs. 6399Rs. 7995(Rs. 1596 OFF)</td>\n",
       "    </tr>\n",
       "    <tr>\n",
       "      <td>2</td>\n",
       "      <td>Nike</td>\n",
       "      <td>Men JORDAN DELTA Basketball</td>\n",
       "      <td>Rs. 9999Rs. 12495(Rs. 2496 OFF)</td>\n",
       "    </tr>\n",
       "    <tr>\n",
       "      <td>3</td>\n",
       "      <td>Nike</td>\n",
       "      <td>Men ZOOM FLY 3 Running Shoes</td>\n",
       "      <td>Rs. 11199Rs. 13995(Rs. 2796 OFF)</td>\n",
       "    </tr>\n",
       "    <tr>\n",
       "      <td>4</td>\n",
       "      <td>Puma</td>\n",
       "      <td>Men HYBRID NETFIT Running Shoe</td>\n",
       "      <td>Rs. 6599Rs. 10999(40% OFF)</td>\n",
       "    </tr>\n",
       "    <tr>\n",
       "      <td>...</td>\n",
       "      <td>...</td>\n",
       "      <td>...</td>\n",
       "      <td>...</td>\n",
       "    </tr>\n",
       "    <tr>\n",
       "      <td>95</td>\n",
       "      <td>ADIDAS Originals</td>\n",
       "      <td>Men Superstar Sneakers</td>\n",
       "      <td>Rs. 8799Rs. 10999(Rs. 2200 OFF)</td>\n",
       "    </tr>\n",
       "    <tr>\n",
       "      <td>96</td>\n",
       "      <td>ADIDAS Originals</td>\n",
       "      <td>Men Deerupt Running Shoes</td>\n",
       "      <td>Rs. 7199Rs. 8999(Rs. 1800 OFF)</td>\n",
       "    </tr>\n",
       "    <tr>\n",
       "      <td>97</td>\n",
       "      <td>Geox</td>\n",
       "      <td>Leather Mid-Top Chelsea Boots</td>\n",
       "      <td>Rs. 8999Rs. 11999(25% OFF)</td>\n",
       "    </tr>\n",
       "    <tr>\n",
       "      <td>98</td>\n",
       "      <td>UNDER ARMOUR</td>\n",
       "      <td>HOVR Sonic 3 Running Shoes</td>\n",
       "      <td>Rs. 10999</td>\n",
       "    </tr>\n",
       "    <tr>\n",
       "      <td>99</td>\n",
       "      <td>Nike</td>\n",
       "      <td>Women FREE RN 5.0 Shoes</td>\n",
       "      <td>Rs. 6399Rs. 7995(Rs. 1596 OFF)</td>\n",
       "    </tr>\n",
       "  </tbody>\n",
       "</table>\n",
       "<p>100 rows × 3 columns</p>\n",
       "</div>"
      ],
      "text/plain": [
       "          Brand_name                     Description  \\\n",
       "0               Nike       Men JORDAN ZOOM '92 Shoes   \n",
       "1               Nike          Men Zoom Running Shoes   \n",
       "2               Nike     Men JORDAN DELTA Basketball   \n",
       "3               Nike    Men ZOOM FLY 3 Running Shoes   \n",
       "4               Puma  Men HYBRID NETFIT Running Shoe   \n",
       "..               ...                             ...   \n",
       "95  ADIDAS Originals          Men Superstar Sneakers   \n",
       "96  ADIDAS Originals       Men Deerupt Running Shoes   \n",
       "97              Geox   Leather Mid-Top Chelsea Boots   \n",
       "98      UNDER ARMOUR      HOVR Sonic 3 Running Shoes   \n",
       "99              Nike         Women FREE RN 5.0 Shoes   \n",
       "\n",
       "                               Price  \n",
       "0   Rs. 10799Rs. 13495(Rs. 2696 OFF)  \n",
       "1     Rs. 6399Rs. 7995(Rs. 1596 OFF)  \n",
       "2    Rs. 9999Rs. 12495(Rs. 2496 OFF)  \n",
       "3   Rs. 11199Rs. 13995(Rs. 2796 OFF)  \n",
       "4         Rs. 6599Rs. 10999(40% OFF)  \n",
       "..                               ...  \n",
       "95   Rs. 8799Rs. 10999(Rs. 2200 OFF)  \n",
       "96    Rs. 7199Rs. 8999(Rs. 1800 OFF)  \n",
       "97        Rs. 8999Rs. 11999(25% OFF)  \n",
       "98                         Rs. 10999  \n",
       "99    Rs. 6399Rs. 7995(Rs. 1596 OFF)  \n",
       "\n",
       "[100 rows x 3 columns]"
      ]
     },
     "execution_count": 16,
     "metadata": {},
     "output_type": "execute_result"
    }
   ],
   "source": [
    "# Final Scraped Data Frame.\n",
    "Sneakers_Info"
   ]
  },
  {
   "cell_type": "code",
   "execution_count": null,
   "metadata": {},
   "outputs": [],
   "source": []
  },
  {
   "cell_type": "markdown",
   "metadata": {},
   "source": [
    "# Question 10: Amazon Laptop Scraping."
   ]
  },
  {
   "cell_type": "code",
   "execution_count": 173,
   "metadata": {},
   "outputs": [],
   "source": [
    "driver = webdriver.Chrome(r\"C:\\Users\\HOMA\\Downloads\\chromedriver_win32\\chromedriver.exe\")"
   ]
  },
  {
   "cell_type": "code",
   "execution_count": 174,
   "metadata": {},
   "outputs": [],
   "source": [
    "# URL of Amazon website.\n",
    "url = 'https://www.amazon.in/s?k=laptop&i=computers&rh=n%3A1375424031&dc&qid=1611511805&rnid=12598141031&ref=sr_nr_p_n_feature_thirteen_browse-bin_17'"
   ]
  },
  {
   "cell_type": "code",
   "execution_count": 175,
   "metadata": {},
   "outputs": [],
   "source": [
    "# Getting URL  by webdriver.\n",
    "driver.get(url)"
   ]
  },
  {
   "cell_type": "code",
   "execution_count": 176,
   "metadata": {},
   "outputs": [],
   "source": [
    "# Finding element of i7-button to filter by xpath and click the i7_button.\n",
    "i7_button = driver.find_element_by_xpath(\"//li[@aria-label='Intel Core i7']/span/a\")\n",
    "i7_button.click()"
   ]
  },
  {
   "cell_type": "code",
   "execution_count": 177,
   "metadata": {},
   "outputs": [],
   "source": [
    "#To put the filter for Intel core i9\n",
    "i9_button=driver.find_element_by_xpath(\"//li[@aria-label='Intel Core i9']/span/a\")\n",
    "i9_button.click()"
   ]
  },
  {
   "cell_type": "code",
   "execution_count": 178,
   "metadata": {},
   "outputs": [],
   "source": [
    "# Creating empty sets\n",
    "Title = []\n",
    "Rating = []\n",
    "Price = []"
   ]
  },
  {
   "cell_type": "code",
   "execution_count": 179,
   "metadata": {},
   "outputs": [
    {
     "data": {
      "text/plain": [
       "[<selenium.webdriver.remote.webelement.WebElement (session=\"37c9f35f99803ce345d121eeb487c641\", element=\"d7f80a81-99be-4e43-ae1a-1b764ffe84ff\")>,\n",
       " <selenium.webdriver.remote.webelement.WebElement (session=\"37c9f35f99803ce345d121eeb487c641\", element=\"0c91679f-9062-403c-a372-b5b8bb2ace56\")>,\n",
       " <selenium.webdriver.remote.webelement.WebElement (session=\"37c9f35f99803ce345d121eeb487c641\", element=\"6b0ccadd-353a-48f9-9e9c-5d518e889984\")>,\n",
       " <selenium.webdriver.remote.webelement.WebElement (session=\"37c9f35f99803ce345d121eeb487c641\", element=\"3445965c-81e4-474a-997a-fcfaf1ae59d7\")>,\n",
       " <selenium.webdriver.remote.webelement.WebElement (session=\"37c9f35f99803ce345d121eeb487c641\", element=\"2e619283-f2c8-4583-8df6-9b3fce886f07\")>]"
      ]
     },
     "execution_count": 179,
     "metadata": {},
     "output_type": "execute_result"
    }
   ],
   "source": [
    "# Finding elements of title through driver by xpath.\n",
    "title = driver.find_elements_by_xpath(\"//span[@class='a-size-medium a-color-base a-text-normal']\")\n",
    "title[:5]"
   ]
  },
  {
   "cell_type": "code",
   "execution_count": 180,
   "metadata": {},
   "outputs": [
    {
     "data": {
      "text/plain": [
       "['Lenovo IdeaPad Gaming 3i 10th Gen Intel Core i7 15.6-inch FHD IPS Gaming Laptop (8GB/1TB HDD + 256 GB SSD/Windows 10/NVIDIA GTX 1650 4GB GDDR6/with M100 RGB Gaming Mouse/Onyx Black/2.2Kg), 81Y400VAIN',\n",
       " 'ASUS ZenBook Pro Duo Intel Core i9-10980HK 10th Gen 15.6\" 4K UHD OLED Touchscreen Laptop (32GB RAM/1TB NVMe SSD/Windows 10/6GB NVIDIA GeForce RTX 2060 Graphics/Celestial Blue/2.5 Kg), UX581LV-H2035T',\n",
       " 'HP Pavilion x360 Touchscreen 2-in-1 FHD 14-inch Laptop (10th Gen Core i7-10510U/8GB/512GB SSD/Windows 10 Home/MS Office/Mineral Silver/1.58 kg), 14-dh1180tu',\n",
       " 'Dell G3 3500 Gaming 15.6-inch FHD Laptop (10th Gen Core i7-10750H/8GB/512GB SSD/Windows 10 Home Plus & MS Office/4GB NVIDIA 1650 Graphics), Eclipse Black']"
      ]
     },
     "execution_count": 180,
     "metadata": {},
     "output_type": "execute_result"
    }
   ],
   "source": [
    "# Using for loop and appending the text to Title.\n",
    "for i in title:\n",
    "    Title.append(i.text)\n",
    "Title[:4]"
   ]
  },
  {
   "cell_type": "code",
   "execution_count": 181,
   "metadata": {},
   "outputs": [
    {
     "data": {
      "text/plain": [
       "[<selenium.webdriver.remote.webelement.WebElement (session=\"37c9f35f99803ce345d121eeb487c641\", element=\"8407ec90-be9d-4e2c-844a-4ad480b2ec6b\")>,\n",
       " <selenium.webdriver.remote.webelement.WebElement (session=\"37c9f35f99803ce345d121eeb487c641\", element=\"a13fd5cd-d375-49d1-835d-d1218f583b53\")>,\n",
       " <selenium.webdriver.remote.webelement.WebElement (session=\"37c9f35f99803ce345d121eeb487c641\", element=\"989e4d8a-9e86-49fb-8492-b6849d8e6a06\")>,\n",
       " <selenium.webdriver.remote.webelement.WebElement (session=\"37c9f35f99803ce345d121eeb487c641\", element=\"b756b4f3-cdf3-448a-8e4d-5f1123f79289\")>,\n",
       " <selenium.webdriver.remote.webelement.WebElement (session=\"37c9f35f99803ce345d121eeb487c641\", element=\"5e5652fe-99d6-430e-ab61-c774dcd467d8\")>]"
      ]
     },
     "execution_count": 181,
     "metadata": {},
     "output_type": "execute_result"
    }
   ],
   "source": [
    "# Finding elements of price through driver by xpath.\n",
    "price = driver.find_elements_by_xpath(\"//span[@class='a-price-whole']\")\n",
    "price[:5]"
   ]
  },
  {
   "cell_type": "code",
   "execution_count": 182,
   "metadata": {},
   "outputs": [
    {
     "data": {
      "text/plain": [
       "['74,990', '2,68,329', '74,990', '86,590']"
      ]
     },
     "execution_count": 182,
     "metadata": {},
     "output_type": "execute_result"
    }
   ],
   "source": [
    "# Using for loop and appending the text to Price empty set.\n",
    "for i in price:\n",
    "    Price.append(i.text)\n",
    "Price[:4]"
   ]
  },
  {
   "cell_type": "code",
   "execution_count": 184,
   "metadata": {},
   "outputs": [],
   "source": [
    "from selenium.common.exceptions import StaleElementReferenceException, NoSuchElementException\n",
    "\n",
    "#locating Ratings\n",
    "urls=driver.find_elements_by_xpath(\"//a[@class='a-link-normal a-text-normal']\")#collecting urls of all the laptop\n",
    "UR=[]\n",
    "for i in urls[:10]:\n",
    "    UR.append(i.get_attribute('href'))#getting the url of first 10 laptops\n",
    "for url in UR:#loop for every laptop in the list\n",
    "    driver.get(url)\n",
    "    try:                  #exception handling for nosuchelementexception\n",
    "        rate=driver.find_element_by_xpath(\"//span[@id='acrCustomerReviewText']\")#locating the ratingd link\n",
    "        rate.click()                                                      #click the rating link found\n",
    "        rating=driver.find_element_by_xpath(\"//span[@class='a-size-medium a-color-base']\")#locating the rating\n",
    "        Rating.append(rating.text)#appending the rating in Rating.\n",
    "        \n",
    "    except NoSuchElementException   as e:\n",
    "        Rating.append(\"NO rating\") # Used to get if there is no rating."
   ]
  },
  {
   "cell_type": "code",
   "execution_count": 185,
   "metadata": {},
   "outputs": [
    {
     "data": {
      "text/plain": [
       "['4.4 out of 5',\n",
       " '5 out of 5',\n",
       " '3.6 out of 5',\n",
       " '3.9 out of 5',\n",
       " '3.9 out of 5',\n",
       " '3.1 out of 5',\n",
       " 'NO rating',\n",
       " '4 out of 5',\n",
       " '4 out of 5',\n",
       " '4.2 out of 5',\n",
       " '4.2 out of 5',\n",
       " '4.5 out of 5',\n",
       " '4.5 out of 5',\n",
       " '4.5 out of 5',\n",
       " '4.5 out of 5',\n",
       " '4.1 out of 5']"
      ]
     },
     "execution_count": 185,
     "metadata": {},
     "output_type": "execute_result"
    }
   ],
   "source": [
    "# Final Rating.\n",
    "Rating"
   ]
  },
  {
   "cell_type": "code",
   "execution_count": 186,
   "metadata": {},
   "outputs": [],
   "source": [
    "# Creating DataFrame.\n",
    "Laptop_Amazon = pd.DataFrame({})\n",
    "Laptop_Amazon['Title'] = Title[:10]\n",
    "Laptop_Amazon['Rating'] = Rating[:10]\n",
    "Laptop_Amazon['Price'] = Price[:10]"
   ]
  },
  {
   "cell_type": "code",
   "execution_count": 187,
   "metadata": {},
   "outputs": [
    {
     "data": {
      "text/html": [
       "<div>\n",
       "<style scoped>\n",
       "    .dataframe tbody tr th:only-of-type {\n",
       "        vertical-align: middle;\n",
       "    }\n",
       "\n",
       "    .dataframe tbody tr th {\n",
       "        vertical-align: top;\n",
       "    }\n",
       "\n",
       "    .dataframe thead th {\n",
       "        text-align: right;\n",
       "    }\n",
       "</style>\n",
       "<table border=\"1\" class=\"dataframe\">\n",
       "  <thead>\n",
       "    <tr style=\"text-align: right;\">\n",
       "      <th></th>\n",
       "      <th>Title</th>\n",
       "      <th>Rating</th>\n",
       "      <th>Price</th>\n",
       "    </tr>\n",
       "  </thead>\n",
       "  <tbody>\n",
       "    <tr>\n",
       "      <td>0</td>\n",
       "      <td>Lenovo IdeaPad Gaming 3i 10th Gen Intel Core i...</td>\n",
       "      <td>4.4 out of 5</td>\n",
       "      <td>74,990</td>\n",
       "    </tr>\n",
       "    <tr>\n",
       "      <td>1</td>\n",
       "      <td>ASUS ZenBook Pro Duo Intel Core i9-10980HK 10t...</td>\n",
       "      <td>5 out of 5</td>\n",
       "      <td>2,68,329</td>\n",
       "    </tr>\n",
       "    <tr>\n",
       "      <td>2</td>\n",
       "      <td>HP Pavilion x360 Touchscreen 2-in-1 FHD 14-inc...</td>\n",
       "      <td>3.6 out of 5</td>\n",
       "      <td>74,990</td>\n",
       "    </tr>\n",
       "    <tr>\n",
       "      <td>3</td>\n",
       "      <td>Dell G3 3500 Gaming 15.6-inch FHD Laptop (10th...</td>\n",
       "      <td>3.9 out of 5</td>\n",
       "      <td>86,590</td>\n",
       "    </tr>\n",
       "    <tr>\n",
       "      <td>4</td>\n",
       "      <td>Dell G3 3500 Gaming15.6-inch FHD Laptop (10th ...</td>\n",
       "      <td>3.9 out of 5</td>\n",
       "      <td>86,974</td>\n",
       "    </tr>\n",
       "    <tr>\n",
       "      <td>5</td>\n",
       "      <td>Lenovo Yoga S740 Intel Core i7 10th Gen 14 inc...</td>\n",
       "      <td>3.1 out of 5</td>\n",
       "      <td>97,700</td>\n",
       "    </tr>\n",
       "    <tr>\n",
       "      <td>6</td>\n",
       "      <td>ASUS ROG Zephyrus S17 (2020), 17.3\" FHD 300Hz/...</td>\n",
       "      <td>NO rating</td>\n",
       "      <td>2,17,990</td>\n",
       "    </tr>\n",
       "    <tr>\n",
       "      <td>7</td>\n",
       "      <td>ASUS ROG Strix G17 17.3\" FHD 120Hz Intel Core ...</td>\n",
       "      <td>4 out of 5</td>\n",
       "      <td>1,02,990</td>\n",
       "    </tr>\n",
       "    <tr>\n",
       "      <td>8</td>\n",
       "      <td>(Renewed) Dell Latitude E6420 14 Inch Laptop (...</td>\n",
       "      <td>4 out of 5</td>\n",
       "      <td>45,000</td>\n",
       "    </tr>\n",
       "    <tr>\n",
       "      <td>9</td>\n",
       "      <td>(Renewed) Dell Latitude E7470 14-inch Laptop (...</td>\n",
       "      <td>4.2 out of 5</td>\n",
       "      <td>55,299</td>\n",
       "    </tr>\n",
       "  </tbody>\n",
       "</table>\n",
       "</div>"
      ],
      "text/plain": [
       "                                               Title        Rating     Price\n",
       "0  Lenovo IdeaPad Gaming 3i 10th Gen Intel Core i...  4.4 out of 5    74,990\n",
       "1  ASUS ZenBook Pro Duo Intel Core i9-10980HK 10t...    5 out of 5  2,68,329\n",
       "2  HP Pavilion x360 Touchscreen 2-in-1 FHD 14-inc...  3.6 out of 5    74,990\n",
       "3  Dell G3 3500 Gaming 15.6-inch FHD Laptop (10th...  3.9 out of 5    86,590\n",
       "4  Dell G3 3500 Gaming15.6-inch FHD Laptop (10th ...  3.9 out of 5    86,974\n",
       "5  Lenovo Yoga S740 Intel Core i7 10th Gen 14 inc...  3.1 out of 5    97,700\n",
       "6  ASUS ROG Zephyrus S17 (2020), 17.3\" FHD 300Hz/...     NO rating  2,17,990\n",
       "7  ASUS ROG Strix G17 17.3\" FHD 120Hz Intel Core ...    4 out of 5  1,02,990\n",
       "8  (Renewed) Dell Latitude E6420 14 Inch Laptop (...    4 out of 5    45,000\n",
       "9  (Renewed) Dell Latitude E7470 14-inch Laptop (...  4.2 out of 5    55,299"
      ]
     },
     "execution_count": 187,
     "metadata": {},
     "output_type": "execute_result"
    }
   ],
   "source": [
    "# Final DataFrame.\n",
    "Laptop_Amazon"
   ]
  },
  {
   "cell_type": "markdown",
   "metadata": {},
   "source": [
    "# Thank You..!!"
   ]
  },
  {
   "cell_type": "code",
   "execution_count": null,
   "metadata": {},
   "outputs": [],
   "source": []
  }
 ],
 "metadata": {
  "kernelspec": {
   "display_name": "Python 3",
   "language": "python",
   "name": "python3"
  },
  "language_info": {
   "codemirror_mode": {
    "name": "ipython",
    "version": 3
   },
   "file_extension": ".py",
   "mimetype": "text/x-python",
   "name": "python",
   "nbconvert_exporter": "python",
   "pygments_lexer": "ipython3",
   "version": "3.7.4"
  }
 },
 "nbformat": 4,
 "nbformat_minor": 2
}
